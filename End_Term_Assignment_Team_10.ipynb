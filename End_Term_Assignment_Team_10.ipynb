{
  "nbformat": 4,
  "nbformat_minor": 0,
  "metadata": {
    "colab": {
      "provenance": [],
      "authorship_tag": "ABX9TyNEjEdeKnrNJe9OkMtv2fKk",
      "include_colab_link": true
    },
    "kernelspec": {
      "name": "python3",
      "display_name": "Python 3"
    },
    "language_info": {
      "name": "python"
    }
  },
  "cells": [
    {
      "cell_type": "markdown",
      "metadata": {
        "id": "view-in-github",
        "colab_type": "text"
      },
      "source": [
        "<a href=\"https://colab.research.google.com/github/OmkarSahasrabudhe/MDS_Learnings/blob/Trimester_2_End-Term/End_Term_Assignment_Team_10.ipynb\" target=\"_parent\"><img src=\"https://colab.research.google.com/assets/colab-badge.svg\" alt=\"Open In Colab\"/></a>"
      ]
    },
    {
      "cell_type": "code",
      "execution_count": 3,
      "metadata": {
        "id": "KOD7geWHx7Pr",
        "colab": {
          "base_uri": "https://localhost:8080/"
        },
        "outputId": "769a98b8-7078-4b56-8321-36a6b6b5125d"
      },
      "outputs": [
        {
          "output_type": "stream",
          "name": "stdout",
          "text": [
            "\r0% [Working]\r            \rHit:1 http://archive.ubuntu.com/ubuntu jammy InRelease\n",
            "\r0% [Waiting for headers] [Connecting to security.ubuntu.com (185.125.190.82)] [Connected to cloud.r-\r                                                                                                    \rGet:2 http://archive.ubuntu.com/ubuntu jammy-updates InRelease [128 kB]\n",
            "\r                                                                                                    \rGet:3 https://cloud.r-project.org/bin/linux/ubuntu jammy-cran40/ InRelease [3,626 B]\n",
            "\r0% [2 InRelease 60.5 kB/128 kB 47%] [Waiting for headers] [Connected to r2u.stat.illinois.edu (192.1\r0% [Waiting for headers] [Waiting for headers] [Waiting for headers] [Connected to ppa.launchpadcont\r                                                                                                    \rHit:4 http://archive.ubuntu.com/ubuntu jammy-backports InRelease\n",
            "\r0% [Waiting for headers] [Waiting for headers] [Waiting for headers] [Connected to ppa.launchpadcont\r                                                                                                    \rHit:5 https://developer.download.nvidia.com/compute/cuda/repos/ubuntu2204/x86_64  InRelease\n",
            "\r0% [Waiting for headers] [Waiting for headers] [Connected to ppa.launchpadcontent.net (185.125.190.8\r                                                                                                    \rGet:6 http://security.ubuntu.com/ubuntu jammy-security InRelease [129 kB]\n",
            "\r0% [6 InRelease 14.2 kB/129 kB 11%] [Waiting for headers] [Connected to ppa.launchpadcontent.net (18\r                                                                                                    \rIgn:7 https://r2u.stat.illinois.edu/ubuntu jammy InRelease\n",
            "Get:8 https://r2u.stat.illinois.edu/ubuntu jammy Release [5,713 B]\n",
            "Get:9 https://r2u.stat.illinois.edu/ubuntu jammy Release.gpg [793 B]\n",
            "Hit:10 https://ppa.launchpadcontent.net/deadsnakes/ppa/ubuntu jammy InRelease\n",
            "Hit:11 https://ppa.launchpadcontent.net/graphics-drivers/ppa/ubuntu jammy InRelease\n",
            "Hit:12 https://ppa.launchpadcontent.net/ubuntugis/ppa/ubuntu jammy InRelease\n",
            "Get:13 http://archive.ubuntu.com/ubuntu jammy-updates/restricted amd64 Packages [3,186 kB]\n",
            "Get:14 http://archive.ubuntu.com/ubuntu jammy-updates/universe amd64 Packages [1,440 kB]\n",
            "Get:15 http://archive.ubuntu.com/ubuntu jammy-updates/main amd64 Packages [2,590 kB]\n",
            "Get:16 https://r2u.stat.illinois.edu/ubuntu jammy/main all Packages [8,346 kB]\n",
            "Get:17 https://r2u.stat.illinois.edu/ubuntu jammy/main amd64 Packages [2,589 kB]\n",
            "Get:18 http://security.ubuntu.com/ubuntu jammy-security/universe amd64 Packages [1,153 kB]\n",
            "Get:19 http://security.ubuntu.com/ubuntu jammy-security/main amd64 Packages [2,308 kB]\n",
            "Fetched 21.9 MB in 3s (8,128 kB/s)\n",
            "Reading package lists... Done\n",
            "W: Skipping acquire of configured file 'main/source/Sources' as repository 'https://r2u.stat.illinois.edu/ubuntu jammy InRelease' does not seem to provide it (sources.list entry misspelt?)\n",
            "Requirement already satisfied: mlxtend in /usr/local/lib/python3.10/dist-packages (0.23.1)\n",
            "Requirement already satisfied: scipy>=1.2.1 in /usr/local/lib/python3.10/dist-packages (from mlxtend) (1.13.1)\n",
            "Requirement already satisfied: numpy>=1.16.2 in /usr/local/lib/python3.10/dist-packages (from mlxtend) (1.26.4)\n",
            "Requirement already satisfied: pandas>=0.24.2 in /usr/local/lib/python3.10/dist-packages (from mlxtend) (2.1.4)\n",
            "Requirement already satisfied: scikit-learn>=1.0.2 in /usr/local/lib/python3.10/dist-packages (from mlxtend) (1.3.2)\n",
            "Requirement already satisfied: matplotlib>=3.0.0 in /usr/local/lib/python3.10/dist-packages (from mlxtend) (3.7.1)\n",
            "Requirement already satisfied: joblib>=0.13.2 in /usr/local/lib/python3.10/dist-packages (from mlxtend) (1.4.2)\n",
            "Requirement already satisfied: contourpy>=1.0.1 in /usr/local/lib/python3.10/dist-packages (from matplotlib>=3.0.0->mlxtend) (1.3.0)\n",
            "Requirement already satisfied: cycler>=0.10 in /usr/local/lib/python3.10/dist-packages (from matplotlib>=3.0.0->mlxtend) (0.12.1)\n",
            "Requirement already satisfied: fonttools>=4.22.0 in /usr/local/lib/python3.10/dist-packages (from matplotlib>=3.0.0->mlxtend) (4.53.1)\n",
            "Requirement already satisfied: kiwisolver>=1.0.1 in /usr/local/lib/python3.10/dist-packages (from matplotlib>=3.0.0->mlxtend) (1.4.7)\n",
            "Requirement already satisfied: packaging>=20.0 in /usr/local/lib/python3.10/dist-packages (from matplotlib>=3.0.0->mlxtend) (24.1)\n",
            "Requirement already satisfied: pillow>=6.2.0 in /usr/local/lib/python3.10/dist-packages (from matplotlib>=3.0.0->mlxtend) (10.4.0)\n",
            "Requirement already satisfied: pyparsing>=2.3.1 in /usr/local/lib/python3.10/dist-packages (from matplotlib>=3.0.0->mlxtend) (3.1.4)\n",
            "Requirement already satisfied: python-dateutil>=2.7 in /usr/local/lib/python3.10/dist-packages (from matplotlib>=3.0.0->mlxtend) (2.8.2)\n",
            "Requirement already satisfied: pytz>=2020.1 in /usr/local/lib/python3.10/dist-packages (from pandas>=0.24.2->mlxtend) (2024.2)\n",
            "Requirement already satisfied: tzdata>=2022.1 in /usr/local/lib/python3.10/dist-packages (from pandas>=0.24.2->mlxtend) (2024.1)\n",
            "Requirement already satisfied: threadpoolctl>=2.0.0 in /usr/local/lib/python3.10/dist-packages (from scikit-learn>=1.0.2->mlxtend) (3.5.0)\n",
            "Requirement already satisfied: six>=1.5 in /usr/local/lib/python3.10/dist-packages (from python-dateutil>=2.7->matplotlib>=3.0.0->mlxtend) (1.16.0)\n",
            "Requirement already satisfied: statsmodels in /usr/local/lib/python3.10/dist-packages (0.14.3)\n",
            "Requirement already satisfied: numpy<3,>=1.22.3 in /usr/local/lib/python3.10/dist-packages (from statsmodels) (1.26.4)\n",
            "Requirement already satisfied: scipy!=1.9.2,>=1.8 in /usr/local/lib/python3.10/dist-packages (from statsmodels) (1.13.1)\n",
            "Requirement already satisfied: pandas!=2.1.0,>=1.4 in /usr/local/lib/python3.10/dist-packages (from statsmodels) (2.1.4)\n",
            "Requirement already satisfied: patsy>=0.5.6 in /usr/local/lib/python3.10/dist-packages (from statsmodels) (0.5.6)\n",
            "Requirement already satisfied: packaging>=21.3 in /usr/local/lib/python3.10/dist-packages (from statsmodels) (24.1)\n",
            "Requirement already satisfied: python-dateutil>=2.8.2 in /usr/local/lib/python3.10/dist-packages (from pandas!=2.1.0,>=1.4->statsmodels) (2.8.2)\n",
            "Requirement already satisfied: pytz>=2020.1 in /usr/local/lib/python3.10/dist-packages (from pandas!=2.1.0,>=1.4->statsmodels) (2024.2)\n",
            "Requirement already satisfied: tzdata>=2022.1 in /usr/local/lib/python3.10/dist-packages (from pandas!=2.1.0,>=1.4->statsmodels) (2024.1)\n",
            "Requirement already satisfied: six in /usr/local/lib/python3.10/dist-packages (from patsy>=0.5.6->statsmodels) (1.16.0)\n"
          ]
        }
      ],
      "source": [
        "# #update local version of the package catalog\n",
        "!apt-get update\n",
        "# install Java8\n",
        "!apt-get install openjdk-8-jdk-headless -qq > /dev/null\n",
        "# download spark 3.3.3\n",
        "!wget -q https://archive.apache.org/dist/spark/spark-3.3.3/spark-3.3.3-bin-hadoop3.tgz\n",
        "# unzip it\n",
        "!tar xf spark-3.3.3-bin-hadoop3.tgz\n",
        "# install findspark\n",
        "!pip install -q findspark\n",
        "\n",
        "!pip install mlxtend\n",
        "!pip install statsmodels\n",
        "\n",
        "import os\n",
        "os.environ[\"JAVA_HOME\"] = \"/usr/lib/jvm/java-8-openjdk-amd64\"\n",
        "os.environ[\"SPARK_HOME\"] = \"/content/spark-3.3.3-bin-hadoop3\"\n",
        "\n",
        "import findspark\n",
        "findspark.init()"
      ]
    },
    {
      "cell_type": "code",
      "source": [
        "from google.colab import drive\n",
        "drive.mount('/content/drive/', force_remount=True)"
      ],
      "metadata": {
        "colab": {
          "base_uri": "https://localhost:8080/"
        },
        "id": "G13YuW5z_kIj",
        "outputId": "9579e55f-6b18-4fa6-c026-b1af63e42c52"
      },
      "execution_count": 4,
      "outputs": [
        {
          "output_type": "stream",
          "name": "stdout",
          "text": [
            "Mounted at /content/drive/\n"
          ]
        }
      ]
    },
    {
      "cell_type": "code",
      "source": [
        "import pyspark\n",
        "from pyspark.sql import SparkSession\n",
        "import pyspark.sql.functions as F\n",
        "\n",
        "import numpy as np\n",
        "import pandas as pd\n",
        "import matplotlib.pyplot as plt\n",
        "from mlxtend.preprocessing import TransactionEncoder\n",
        "from mlxtend.frequent_patterns import apriori, association_rules\n",
        "from sklearn.metrics.pairwise import euclidean_distances\n",
        "from statsmodels.tsa.seasonal import seasonal_decompose\n",
        "\n",
        "import warnings\n",
        "warnings.filterwarnings('ignore')"
      ],
      "metadata": {
        "id": "MtATLVfp7iea"
      },
      "execution_count": 5,
      "outputs": []
    },
    {
      "cell_type": "code",
      "source": [
        "spark = SparkSession.builder.appName(\"Task_2\").getOrCreate()"
      ],
      "metadata": {
        "id": "vRj9ivkQK5_q"
      },
      "execution_count": 6,
      "outputs": []
    },
    {
      "cell_type": "code",
      "source": [
        "df = spark.read.csv(\"/content/drive/MyDrive/MDS_Deakin_University/Trimester_2/SIG742-Modern_Data_Science/Task_2/transactionrecord.gz\",\n",
        "                    inferSchema = True, header = True)"
      ],
      "metadata": {
        "id": "23zPLhzQFiUN"
      },
      "execution_count": 7,
      "outputs": []
    },
    {
      "cell_type": "code",
      "source": [
        "df.show()"
      ],
      "metadata": {
        "colab": {
          "base_uri": "https://localhost:8080/"
        },
        "id": "OxjpNEIsF7XN",
        "outputId": "9e76add3-b4a0-4815-8b0b-0633707c9b50"
      },
      "execution_count": 8,
      "outputs": [
        {
          "output_type": "stream",
          "name": "stdout",
          "text": [
            "+-------------+---------+---------+--------------------+----------------+-----+--------+----------+--------------+\n",
            "|TransactionNo|     Date|ProductNo|         ProductName|Product_category|Price|Quantity|CustomerNo|       Country|\n",
            "+-------------+---------+---------+--------------------+----------------+-----+--------+----------+--------------+\n",
            "|       581482|12/9/2019|    22485|Set Of 2 Wooden M...|             0ca|21.47|      12|     17490|United Kingdom|\n",
            "|       581475|12/9/2019|    22596|Christmas Star Wi...|             0ca|10.65|      36|     13069|United Kingdom|\n",
            "|       581475|12/9/2019|    23235|Storage Tin Vinta...|             0ca|11.53|      12|     13069|United Kingdom|\n",
            "|       581475|12/9/2019|    23272|Tree T-Light Hold...|             0ca|10.65|      12|     13069|United Kingdom|\n",
            "|       581475|12/9/2019|    23239|Set Of 4 Knick Kn...|             0ca|11.94|       6|     13069|United Kingdom|\n",
            "|       581475|12/9/2019|    21705|Bag 500g Swirly M...|             0ca|10.65|      24|     13069|United Kingdom|\n",
            "|       581475|12/9/2019|    22118|Joy Wooden Block ...|             0ca|11.53|      18|     13069|United Kingdom|\n",
            "|       581475|12/9/2019|    22119|Peace Wooden Bloc...|             0ca|12.25|      12|     13069|United Kingdom|\n",
            "|       581475|12/9/2019|    22217|T-Light Holder Ha...|             0ca|10.65|      12|     13069|United Kingdom|\n",
            "|       581475|12/9/2019|    22216|T-Light Holder Wh...|             0ca|10.55|      24|     13069|United Kingdom|\n",
            "|       581475|12/9/2019|    22380|   Toy Tidy Spaceboy|             0ca|11.06|      20|     13069|United Kingdom|\n",
            "|       581475|12/9/2019|    22442|Grow Your Own Flo...|             0ca|12.25|      12|     13069|United Kingdom|\n",
            "|       581475|12/9/2019|    22664|Toy Tidy Dolly Gi...|             0ca|11.06|      20|     13069|United Kingdom|\n",
            "|       581475|12/9/2019|    22721|Set Of 3 Cake Tin...|             0ca|12.25|      12|     13069|United Kingdom|\n",
            "|       581475|12/9/2019|    22723|Set Of 6 Herb Tin...|             0ca|11.53|      12|     13069|United Kingdom|\n",
            "|       581475|12/9/2019|    22785|Squarecushion Cov...|             0ca|11.53|      12|     13069|United Kingdom|\n",
            "|       581475|12/9/2019|    22955|36 Foil Star Cake...|             0ca|11.06|      24|     13069|United Kingdom|\n",
            "|       581475|12/9/2019|    23141|Triple Wire Hook ...|             0ca|11.06|      12|     13069|United Kingdom|\n",
            "|       581475|12/9/2019|    22956|36 Foil Heart Cak...|             0ca|11.06|      24|     13069|United Kingdom|\n",
            "|       581475|12/9/2019|    22581|Wood Stocking Chr...|             0ca|10.55|      48|     13069|United Kingdom|\n",
            "+-------------+---------+---------+--------------------+----------------+-----+--------+----------+--------------+\n",
            "only showing top 20 rows\n",
            "\n"
          ]
        }
      ]
    },
    {
      "cell_type": "code",
      "source": [
        "# Check for NA values\n",
        "df.filter(df.CustomerNo.isNull()).show()"
      ],
      "metadata": {
        "colab": {
          "base_uri": "https://localhost:8080/"
        },
        "id": "v_eJVNHbGDXg",
        "outputId": "6d795260-9f65-40d9-fb8c-8da1d5e76642"
      },
      "execution_count": 9,
      "outputs": [
        {
          "output_type": "stream",
          "name": "stdout",
          "text": [
            "+-------------+----+---------+-----------+----------------+-----+--------+----------+-------+\n",
            "|TransactionNo|Date|ProductNo|ProductName|Product_category|Price|Quantity|CustomerNo|Country|\n",
            "+-------------+----+---------+-----------+----------------+-----+--------+----------+-------+\n",
            "+-------------+----+---------+-----------+----------------+-----+--------+----------+-------+\n",
            "\n"
          ]
        }
      ]
    },
    {
      "cell_type": "code",
      "source": [
        "# Check for NA values\n",
        "df.filter(df.CustomerNo == -1).show()"
      ],
      "metadata": {
        "colab": {
          "base_uri": "https://localhost:8080/"
        },
        "id": "7ZkdmDDTGs03",
        "outputId": "559a3bfc-31da-424a-deb6-e9d4883a308b"
      },
      "execution_count": 10,
      "outputs": [
        {
          "output_type": "stream",
          "name": "stdout",
          "text": [
            "+-------------+----------+---------+--------------------+----------------+-----+--------+----------+--------------+\n",
            "|TransactionNo|      Date|ProductNo|         ProductName|Product_category|Price|Quantity|CustomerNo|       Country|\n",
            "+-------------+----------+---------+--------------------+----------------+-----+--------+----------+--------------+\n",
            "|      C581406| 12/8/2019|   46000M|Polyester Filler ...|             0ca| 6.19|    -240|        -1|United Kingdom|\n",
            "|      C581406| 12/8/2019|   46000S|Polyester Filler ...|             0ca| 6.19|    -300|        -1|United Kingdom|\n",
            "|      C575153| 11/8/2019|    22947|Wooden Advent Cal...|             0ca|44.25|      -1|        -1|United Kingdom|\n",
            "|      C574288| 11/3/2019|    22178|Victorian Glass H...|             0ca|25.37|      -1|        -1|United Kingdom|\n",
            "|      C573180|10/28/2019|    23048|Set Of 10 Lantern...|             0ca| 14.5|      -1|        -1|United Kingdom|\n",
            "|      C569495| 10/4/2019|    21843|Red Retrospot Cak...|             0ca|21.47|      -1|        -1|United Kingdom|\n",
            "|      C567518| 9/20/2019|    22846|Bread Bin Diner S...|             0ca|27.62|      -1|        -1|United Kingdom|\n",
            "|      C567518| 9/20/2019|    21871| Save The Planet Mug|             0ca|11.94|     -12|        -1|United Kingdom|\n",
            "|      C563015| 8/11/2019|   46000M|Polyester Filler ...|             0ca|10.25|    -160|        -1|United Kingdom|\n",
            "|      C563015| 8/11/2019|   46000S|Polyester Filler ...|             0ca|10.25|    -220|        -1|United Kingdom|\n",
            "|      C562617|  8/8/2019|    23243|Set Of Tea Coffee...|             0ca|15.32|      -2|        -1|United Kingdom|\n",
            "|      C561966|  8/1/2019|    22371|Airline Bag Vinta...|             0ca|14.48|      -1|        -1|United Kingdom|\n",
            "|      C562030|  8/1/2019|   84595E|Large Tortilla De...|             0ca|13.62|      -1|        -1|United Kingdom|\n",
            "|      C561239| 7/26/2019|    22427|Enamel Flower Jug...|             0ca|16.35|      -1|        -1|United Kingdom|\n",
            "|      C561239| 7/26/2019|    22426|Enamel Wash Bowl ...|             0ca|14.09|      -1|        -1|United Kingdom|\n",
            "|      C561239| 7/26/2019|    84755|Colour Glass T-Li...|             0ca|10.92|      -4|        -1|United Kingdom|\n",
            "|      C559949| 7/14/2019|    22699|Roses Regency Tea...|             0ca|13.27|      -2|        -1|United Kingdom|\n",
            "|      C559296|  7/7/2019|    23001|Travel Card Walle...|             0ca|10.25|    -200|        -1|United Kingdom|\n",
            "|      C559296|  7/7/2019|    22616|Pack Of 12 London...|             0ca|10.25|    -204|        -1|United Kingdom|\n",
            "|      C559296|  7/7/2019|    23298|      Spotty Bunting|             0ca|10.25|    -170|        -1|United Kingdom|\n",
            "+-------------+----------+---------+--------------------+----------------+-----+--------+----------+--------------+\n",
            "only showing top 20 rows\n",
            "\n"
          ]
        }
      ]
    },
    {
      "cell_type": "code",
      "source": [
        "df = df.withColumn(\"productName_process\",F.regexp_replace(F.col(\"productName\"), \"[^a-zA-Z]\", \"\"))\n",
        "\n",
        "# Show the first 5 rows of the processed DataFrame\n",
        "print(df.show(5))"
      ],
      "metadata": {
        "colab": {
          "base_uri": "https://localhost:8080/"
        },
        "id": "E6iBXPzNG3o0",
        "outputId": "89cea02a-51c5-4dcb-b5f5-846c4c328627"
      },
      "execution_count": 11,
      "outputs": [
        {
          "output_type": "stream",
          "name": "stdout",
          "text": [
            "+-------------+---------+---------+--------------------+----------------+-----+--------+----------+--------------+--------------------+\n",
            "|TransactionNo|     Date|ProductNo|         ProductName|Product_category|Price|Quantity|CustomerNo|       Country| productName_process|\n",
            "+-------------+---------+---------+--------------------+----------------+-----+--------+----------+--------------+--------------------+\n",
            "|       581482|12/9/2019|    22485|Set Of 2 Wooden M...|             0ca|21.47|      12|     17490|United Kingdom|SetOfWoodenMarket...|\n",
            "|       581475|12/9/2019|    22596|Christmas Star Wi...|             0ca|10.65|      36|     13069|United Kingdom|ChristmasStarWish...|\n",
            "|       581475|12/9/2019|    23235|Storage Tin Vinta...|             0ca|11.53|      12|     13069|United Kingdom|StorageTinVintage...|\n",
            "|       581475|12/9/2019|    23272|Tree T-Light Hold...|             0ca|10.65|      12|     13069|United Kingdom|TreeTLightHolderW...|\n",
            "|       581475|12/9/2019|    23239|Set Of 4 Knick Kn...|             0ca|11.94|       6|     13069|United Kingdom|SetOfKnickKnackTi...|\n",
            "+-------------+---------+---------+--------------------+----------------+-----+--------+----------+--------------+--------------------+\n",
            "only showing top 5 rows\n",
            "\n",
            "None\n"
          ]
        }
      ]
    },
    {
      "cell_type": "code",
      "source": [
        "# 1.2.1 Calculate revenue and save as float\n",
        "df = df.withColumn(\"Revenue\", (F.col(\"price\") * F.col(\"Quantity\")).cast(\"float\"))\n",
        "\n",
        "df.show(10)"
      ],
      "metadata": {
        "colab": {
          "base_uri": "https://localhost:8080/"
        },
        "id": "zAtZ9ZZKJhwg",
        "outputId": "4de23c9a-36d1-4bfc-bd72-b2d827e07845"
      },
      "execution_count": 12,
      "outputs": [
        {
          "output_type": "stream",
          "name": "stdout",
          "text": [
            "+-------------+---------+---------+--------------------+----------------+-----+--------+----------+--------------+--------------------+-------+\n",
            "|TransactionNo|     Date|ProductNo|         ProductName|Product_category|Price|Quantity|CustomerNo|       Country| productName_process|Revenue|\n",
            "+-------------+---------+---------+--------------------+----------------+-----+--------+----------+--------------+--------------------+-------+\n",
            "|       581482|12/9/2019|    22485|Set Of 2 Wooden M...|             0ca|21.47|      12|     17490|United Kingdom|SetOfWoodenMarket...| 257.64|\n",
            "|       581475|12/9/2019|    22596|Christmas Star Wi...|             0ca|10.65|      36|     13069|United Kingdom|ChristmasStarWish...|  383.4|\n",
            "|       581475|12/9/2019|    23235|Storage Tin Vinta...|             0ca|11.53|      12|     13069|United Kingdom|StorageTinVintage...| 138.36|\n",
            "|       581475|12/9/2019|    23272|Tree T-Light Hold...|             0ca|10.65|      12|     13069|United Kingdom|TreeTLightHolderW...|  127.8|\n",
            "|       581475|12/9/2019|    23239|Set Of 4 Knick Kn...|             0ca|11.94|       6|     13069|United Kingdom|SetOfKnickKnackTi...|  71.64|\n",
            "|       581475|12/9/2019|    21705|Bag 500g Swirly M...|             0ca|10.65|      24|     13069|United Kingdom|   BaggSwirlyMarbles|  255.6|\n",
            "|       581475|12/9/2019|    22118|Joy Wooden Block ...|             0ca|11.53|      18|     13069|United Kingdom|JoyWoodenBlockLet...| 207.54|\n",
            "|       581475|12/9/2019|    22119|Peace Wooden Bloc...|             0ca|12.25|      12|     13069|United Kingdom|PeaceWoodenBlockL...|  147.0|\n",
            "|       581475|12/9/2019|    22217|T-Light Holder Ha...|             0ca|10.65|      12|     13069|United Kingdom|TLightHolderHangi...|  127.8|\n",
            "|       581475|12/9/2019|    22216|T-Light Holder Wh...|             0ca|10.55|      24|     13069|United Kingdom|TLightHolderWhite...|  253.2|\n",
            "+-------------+---------+---------+--------------------+----------------+-----+--------+----------+--------------+--------------------+-------+\n",
            "only showing top 10 rows\n",
            "\n"
          ]
        }
      ]
    },
    {
      "cell_type": "code",
      "source": [
        "# 1.2.2 Convert to Pandas DataFrame and create transaction_date column\n",
        "df = df.toPandas()\n",
        "df[\"transaction_date\"] = pd.to_datetime(df[\"Date\"])\n",
        "\n",
        "df.head()"
      ],
      "metadata": {
        "colab": {
          "base_uri": "https://localhost:8080/",
          "height": 382
        },
        "id": "l5VJSK0LRT5F",
        "outputId": "e5dd8eec-c935-4bae-a4cb-2610e9226c83"
      },
      "execution_count": 13,
      "outputs": [
        {
          "output_type": "execute_result",
          "data": {
            "text/plain": [
              "  TransactionNo       Date ProductNo                          ProductName  \\\n",
              "0        581482  12/9/2019     22485        Set Of 2 Wooden Market Crates   \n",
              "1        581475  12/9/2019     22596  Christmas Star Wish List Chalkboard   \n",
              "2        581475  12/9/2019     23235             Storage Tin Vintage Leaf   \n",
              "3        581475  12/9/2019     23272    Tree T-Light Holder Willie Winkie   \n",
              "4        581475  12/9/2019     23239    Set Of 4 Knick Knack Tins Poppies   \n",
              "\n",
              "  Product_category  Price  Quantity  CustomerNo         Country  \\\n",
              "0              0ca  21.47        12       17490  United Kingdom   \n",
              "1              0ca  10.65        36       13069  United Kingdom   \n",
              "2              0ca  11.53        12       13069  United Kingdom   \n",
              "3              0ca  10.65        12       13069  United Kingdom   \n",
              "4              0ca  11.94         6       13069  United Kingdom   \n",
              "\n",
              "               productName_process     Revenue transaction_date  \n",
              "0          SetOfWoodenMarketCrates  257.640015       2019-12-09  \n",
              "1  ChristmasStarWishListChalkboard  383.399994       2019-12-09  \n",
              "2            StorageTinVintageLeaf  138.360001       2019-12-09  \n",
              "3     TreeTLightHolderWillieWinkie  127.800003       2019-12-09  \n",
              "4       SetOfKnickKnackTinsPoppies   71.639999       2019-12-09  "
            ],
            "text/html": [
              "\n",
              "  <div id=\"df-d2d8e8ad-670a-4ceb-8697-fa4ace34c3a8\" class=\"colab-df-container\">\n",
              "    <div>\n",
              "<style scoped>\n",
              "    .dataframe tbody tr th:only-of-type {\n",
              "        vertical-align: middle;\n",
              "    }\n",
              "\n",
              "    .dataframe tbody tr th {\n",
              "        vertical-align: top;\n",
              "    }\n",
              "\n",
              "    .dataframe thead th {\n",
              "        text-align: right;\n",
              "    }\n",
              "</style>\n",
              "<table border=\"1\" class=\"dataframe\">\n",
              "  <thead>\n",
              "    <tr style=\"text-align: right;\">\n",
              "      <th></th>\n",
              "      <th>TransactionNo</th>\n",
              "      <th>Date</th>\n",
              "      <th>ProductNo</th>\n",
              "      <th>ProductName</th>\n",
              "      <th>Product_category</th>\n",
              "      <th>Price</th>\n",
              "      <th>Quantity</th>\n",
              "      <th>CustomerNo</th>\n",
              "      <th>Country</th>\n",
              "      <th>productName_process</th>\n",
              "      <th>Revenue</th>\n",
              "      <th>transaction_date</th>\n",
              "    </tr>\n",
              "  </thead>\n",
              "  <tbody>\n",
              "    <tr>\n",
              "      <th>0</th>\n",
              "      <td>581482</td>\n",
              "      <td>12/9/2019</td>\n",
              "      <td>22485</td>\n",
              "      <td>Set Of 2 Wooden Market Crates</td>\n",
              "      <td>0ca</td>\n",
              "      <td>21.47</td>\n",
              "      <td>12</td>\n",
              "      <td>17490</td>\n",
              "      <td>United Kingdom</td>\n",
              "      <td>SetOfWoodenMarketCrates</td>\n",
              "      <td>257.640015</td>\n",
              "      <td>2019-12-09</td>\n",
              "    </tr>\n",
              "    <tr>\n",
              "      <th>1</th>\n",
              "      <td>581475</td>\n",
              "      <td>12/9/2019</td>\n",
              "      <td>22596</td>\n",
              "      <td>Christmas Star Wish List Chalkboard</td>\n",
              "      <td>0ca</td>\n",
              "      <td>10.65</td>\n",
              "      <td>36</td>\n",
              "      <td>13069</td>\n",
              "      <td>United Kingdom</td>\n",
              "      <td>ChristmasStarWishListChalkboard</td>\n",
              "      <td>383.399994</td>\n",
              "      <td>2019-12-09</td>\n",
              "    </tr>\n",
              "    <tr>\n",
              "      <th>2</th>\n",
              "      <td>581475</td>\n",
              "      <td>12/9/2019</td>\n",
              "      <td>23235</td>\n",
              "      <td>Storage Tin Vintage Leaf</td>\n",
              "      <td>0ca</td>\n",
              "      <td>11.53</td>\n",
              "      <td>12</td>\n",
              "      <td>13069</td>\n",
              "      <td>United Kingdom</td>\n",
              "      <td>StorageTinVintageLeaf</td>\n",
              "      <td>138.360001</td>\n",
              "      <td>2019-12-09</td>\n",
              "    </tr>\n",
              "    <tr>\n",
              "      <th>3</th>\n",
              "      <td>581475</td>\n",
              "      <td>12/9/2019</td>\n",
              "      <td>23272</td>\n",
              "      <td>Tree T-Light Holder Willie Winkie</td>\n",
              "      <td>0ca</td>\n",
              "      <td>10.65</td>\n",
              "      <td>12</td>\n",
              "      <td>13069</td>\n",
              "      <td>United Kingdom</td>\n",
              "      <td>TreeTLightHolderWillieWinkie</td>\n",
              "      <td>127.800003</td>\n",
              "      <td>2019-12-09</td>\n",
              "    </tr>\n",
              "    <tr>\n",
              "      <th>4</th>\n",
              "      <td>581475</td>\n",
              "      <td>12/9/2019</td>\n",
              "      <td>23239</td>\n",
              "      <td>Set Of 4 Knick Knack Tins Poppies</td>\n",
              "      <td>0ca</td>\n",
              "      <td>11.94</td>\n",
              "      <td>6</td>\n",
              "      <td>13069</td>\n",
              "      <td>United Kingdom</td>\n",
              "      <td>SetOfKnickKnackTinsPoppies</td>\n",
              "      <td>71.639999</td>\n",
              "      <td>2019-12-09</td>\n",
              "    </tr>\n",
              "  </tbody>\n",
              "</table>\n",
              "</div>\n",
              "    <div class=\"colab-df-buttons\">\n",
              "\n",
              "  <div class=\"colab-df-container\">\n",
              "    <button class=\"colab-df-convert\" onclick=\"convertToInteractive('df-d2d8e8ad-670a-4ceb-8697-fa4ace34c3a8')\"\n",
              "            title=\"Convert this dataframe to an interactive table.\"\n",
              "            style=\"display:none;\">\n",
              "\n",
              "  <svg xmlns=\"http://www.w3.org/2000/svg\" height=\"24px\" viewBox=\"0 -960 960 960\">\n",
              "    <path d=\"M120-120v-720h720v720H120Zm60-500h600v-160H180v160Zm220 220h160v-160H400v160Zm0 220h160v-160H400v160ZM180-400h160v-160H180v160Zm440 0h160v-160H620v160ZM180-180h160v-160H180v160Zm440 0h160v-160H620v160Z\"/>\n",
              "  </svg>\n",
              "    </button>\n",
              "\n",
              "  <style>\n",
              "    .colab-df-container {\n",
              "      display:flex;\n",
              "      gap: 12px;\n",
              "    }\n",
              "\n",
              "    .colab-df-convert {\n",
              "      background-color: #E8F0FE;\n",
              "      border: none;\n",
              "      border-radius: 50%;\n",
              "      cursor: pointer;\n",
              "      display: none;\n",
              "      fill: #1967D2;\n",
              "      height: 32px;\n",
              "      padding: 0 0 0 0;\n",
              "      width: 32px;\n",
              "    }\n",
              "\n",
              "    .colab-df-convert:hover {\n",
              "      background-color: #E2EBFA;\n",
              "      box-shadow: 0px 1px 2px rgba(60, 64, 67, 0.3), 0px 1px 3px 1px rgba(60, 64, 67, 0.15);\n",
              "      fill: #174EA6;\n",
              "    }\n",
              "\n",
              "    .colab-df-buttons div {\n",
              "      margin-bottom: 4px;\n",
              "    }\n",
              "\n",
              "    [theme=dark] .colab-df-convert {\n",
              "      background-color: #3B4455;\n",
              "      fill: #D2E3FC;\n",
              "    }\n",
              "\n",
              "    [theme=dark] .colab-df-convert:hover {\n",
              "      background-color: #434B5C;\n",
              "      box-shadow: 0px 1px 3px 1px rgba(0, 0, 0, 0.15);\n",
              "      filter: drop-shadow(0px 1px 2px rgba(0, 0, 0, 0.3));\n",
              "      fill: #FFFFFF;\n",
              "    }\n",
              "  </style>\n",
              "\n",
              "    <script>\n",
              "      const buttonEl =\n",
              "        document.querySelector('#df-d2d8e8ad-670a-4ceb-8697-fa4ace34c3a8 button.colab-df-convert');\n",
              "      buttonEl.style.display =\n",
              "        google.colab.kernel.accessAllowed ? 'block' : 'none';\n",
              "\n",
              "      async function convertToInteractive(key) {\n",
              "        const element = document.querySelector('#df-d2d8e8ad-670a-4ceb-8697-fa4ace34c3a8');\n",
              "        const dataTable =\n",
              "          await google.colab.kernel.invokeFunction('convertToInteractive',\n",
              "                                                    [key], {});\n",
              "        if (!dataTable) return;\n",
              "\n",
              "        const docLinkHtml = 'Like what you see? Visit the ' +\n",
              "          '<a target=\"_blank\" href=https://colab.research.google.com/notebooks/data_table.ipynb>data table notebook</a>'\n",
              "          + ' to learn more about interactive tables.';\n",
              "        element.innerHTML = '';\n",
              "        dataTable['output_type'] = 'display_data';\n",
              "        await google.colab.output.renderOutput(dataTable, element);\n",
              "        const docLink = document.createElement('div');\n",
              "        docLink.innerHTML = docLinkHtml;\n",
              "        element.appendChild(docLink);\n",
              "      }\n",
              "    </script>\n",
              "  </div>\n",
              "\n",
              "\n",
              "<div id=\"df-ab55e6de-a9c4-4072-a502-949e56d0e0ea\">\n",
              "  <button class=\"colab-df-quickchart\" onclick=\"quickchart('df-ab55e6de-a9c4-4072-a502-949e56d0e0ea')\"\n",
              "            title=\"Suggest charts\"\n",
              "            style=\"display:none;\">\n",
              "\n",
              "<svg xmlns=\"http://www.w3.org/2000/svg\" height=\"24px\"viewBox=\"0 0 24 24\"\n",
              "     width=\"24px\">\n",
              "    <g>\n",
              "        <path d=\"M19 3H5c-1.1 0-2 .9-2 2v14c0 1.1.9 2 2 2h14c1.1 0 2-.9 2-2V5c0-1.1-.9-2-2-2zM9 17H7v-7h2v7zm4 0h-2V7h2v10zm4 0h-2v-4h2v4z\"/>\n",
              "    </g>\n",
              "</svg>\n",
              "  </button>\n",
              "\n",
              "<style>\n",
              "  .colab-df-quickchart {\n",
              "      --bg-color: #E8F0FE;\n",
              "      --fill-color: #1967D2;\n",
              "      --hover-bg-color: #E2EBFA;\n",
              "      --hover-fill-color: #174EA6;\n",
              "      --disabled-fill-color: #AAA;\n",
              "      --disabled-bg-color: #DDD;\n",
              "  }\n",
              "\n",
              "  [theme=dark] .colab-df-quickchart {\n",
              "      --bg-color: #3B4455;\n",
              "      --fill-color: #D2E3FC;\n",
              "      --hover-bg-color: #434B5C;\n",
              "      --hover-fill-color: #FFFFFF;\n",
              "      --disabled-bg-color: #3B4455;\n",
              "      --disabled-fill-color: #666;\n",
              "  }\n",
              "\n",
              "  .colab-df-quickchart {\n",
              "    background-color: var(--bg-color);\n",
              "    border: none;\n",
              "    border-radius: 50%;\n",
              "    cursor: pointer;\n",
              "    display: none;\n",
              "    fill: var(--fill-color);\n",
              "    height: 32px;\n",
              "    padding: 0;\n",
              "    width: 32px;\n",
              "  }\n",
              "\n",
              "  .colab-df-quickchart:hover {\n",
              "    background-color: var(--hover-bg-color);\n",
              "    box-shadow: 0 1px 2px rgba(60, 64, 67, 0.3), 0 1px 3px 1px rgba(60, 64, 67, 0.15);\n",
              "    fill: var(--button-hover-fill-color);\n",
              "  }\n",
              "\n",
              "  .colab-df-quickchart-complete:disabled,\n",
              "  .colab-df-quickchart-complete:disabled:hover {\n",
              "    background-color: var(--disabled-bg-color);\n",
              "    fill: var(--disabled-fill-color);\n",
              "    box-shadow: none;\n",
              "  }\n",
              "\n",
              "  .colab-df-spinner {\n",
              "    border: 2px solid var(--fill-color);\n",
              "    border-color: transparent;\n",
              "    border-bottom-color: var(--fill-color);\n",
              "    animation:\n",
              "      spin 1s steps(1) infinite;\n",
              "  }\n",
              "\n",
              "  @keyframes spin {\n",
              "    0% {\n",
              "      border-color: transparent;\n",
              "      border-bottom-color: var(--fill-color);\n",
              "      border-left-color: var(--fill-color);\n",
              "    }\n",
              "    20% {\n",
              "      border-color: transparent;\n",
              "      border-left-color: var(--fill-color);\n",
              "      border-top-color: var(--fill-color);\n",
              "    }\n",
              "    30% {\n",
              "      border-color: transparent;\n",
              "      border-left-color: var(--fill-color);\n",
              "      border-top-color: var(--fill-color);\n",
              "      border-right-color: var(--fill-color);\n",
              "    }\n",
              "    40% {\n",
              "      border-color: transparent;\n",
              "      border-right-color: var(--fill-color);\n",
              "      border-top-color: var(--fill-color);\n",
              "    }\n",
              "    60% {\n",
              "      border-color: transparent;\n",
              "      border-right-color: var(--fill-color);\n",
              "    }\n",
              "    80% {\n",
              "      border-color: transparent;\n",
              "      border-right-color: var(--fill-color);\n",
              "      border-bottom-color: var(--fill-color);\n",
              "    }\n",
              "    90% {\n",
              "      border-color: transparent;\n",
              "      border-bottom-color: var(--fill-color);\n",
              "    }\n",
              "  }\n",
              "</style>\n",
              "\n",
              "  <script>\n",
              "    async function quickchart(key) {\n",
              "      const quickchartButtonEl =\n",
              "        document.querySelector('#' + key + ' button');\n",
              "      quickchartButtonEl.disabled = true;  // To prevent multiple clicks.\n",
              "      quickchartButtonEl.classList.add('colab-df-spinner');\n",
              "      try {\n",
              "        const charts = await google.colab.kernel.invokeFunction(\n",
              "            'suggestCharts', [key], {});\n",
              "      } catch (error) {\n",
              "        console.error('Error during call to suggestCharts:', error);\n",
              "      }\n",
              "      quickchartButtonEl.classList.remove('colab-df-spinner');\n",
              "      quickchartButtonEl.classList.add('colab-df-quickchart-complete');\n",
              "    }\n",
              "    (() => {\n",
              "      let quickchartButtonEl =\n",
              "        document.querySelector('#df-ab55e6de-a9c4-4072-a502-949e56d0e0ea button');\n",
              "      quickchartButtonEl.style.display =\n",
              "        google.colab.kernel.accessAllowed ? 'block' : 'none';\n",
              "    })();\n",
              "  </script>\n",
              "</div>\n",
              "\n",
              "    </div>\n",
              "  </div>\n"
            ],
            "application/vnd.google.colaboratory.intrinsic+json": {
              "type": "dataframe",
              "variable_name": "df"
            }
          },
          "metadata": {},
          "execution_count": 13
        }
      ]
    },
    {
      "cell_type": "code",
      "source": [
        "df.info()"
      ],
      "metadata": {
        "colab": {
          "base_uri": "https://localhost:8080/"
        },
        "id": "cLKIhXMRR0Ga",
        "outputId": "0d92835d-1acb-43c3-ee0f-331b4f45f9f6"
      },
      "execution_count": 14,
      "outputs": [
        {
          "output_type": "stream",
          "name": "stdout",
          "text": [
            "<class 'pandas.core.frame.DataFrame'>\n",
            "RangeIndex: 536350 entries, 0 to 536349\n",
            "Data columns (total 12 columns):\n",
            " #   Column               Non-Null Count   Dtype         \n",
            "---  ------               --------------   -----         \n",
            " 0   TransactionNo        536350 non-null  object        \n",
            " 1   Date                 536350 non-null  object        \n",
            " 2   ProductNo            536350 non-null  object        \n",
            " 3   ProductName          536350 non-null  object        \n",
            " 4   Product_category     536350 non-null  object        \n",
            " 5   Price                536350 non-null  float64       \n",
            " 6   Quantity             536350 non-null  int32         \n",
            " 7   CustomerNo           536350 non-null  int32         \n",
            " 8   Country              536350 non-null  object        \n",
            " 9   productName_process  536350 non-null  object        \n",
            " 10  Revenue              536350 non-null  float32       \n",
            " 11  transaction_date     536350 non-null  datetime64[ns]\n",
            "dtypes: datetime64[ns](1), float32(1), float64(1), int32(2), object(7)\n",
            "memory usage: 43.0+ MB\n"
          ]
        }
      ]
    },
    {
      "cell_type": "code",
      "source": [
        "# 1.2.3 Plot the sum of revenue on transaction_date\n",
        "plt.figure(figsize=(15, 6))\n",
        "plt.plot(df[\"transaction_date\"].unique(), df[\"Revenue\"].groupby(df[\"transaction_date\"]).sum())\n",
        "plt.title(\"Total Revenue by Transaction Date\")\n",
        "plt.xlabel(\"Transaction Date\")\n",
        "plt.ylabel(\"Total Revenue\")\n",
        "plt.grid(True)\n",
        "plt.show()"
      ],
      "metadata": {
        "colab": {
          "base_uri": "https://localhost:8080/",
          "height": 545
        },
        "id": "QnkrfpakR9tM",
        "outputId": "dbeb415e-542f-4f53-b418-826a989d9f5b"
      },
      "execution_count": 15,
      "outputs": [
        {
          "output_type": "display_data",
          "data": {
            "text/plain": [
              "<Figure size 1500x600 with 1 Axes>"
            ],
            "image/png": "[encoded data removed]"
          },
          "metadata": {}
        }
      ]
    },
    {
      "cell_type": "code",
      "source": [
        "# 1.3.1 Determine the workday with the most sales\n",
        "df[\"day_of_week\"] = df[\"transaction_date\"].dt.day_name()\n",
        "\n",
        "# Group by day_of_week and calculate average revenue\n",
        "avg_revenue_by_day = df.groupby(\"day_of_week\")[\"Revenue\"].mean()\n",
        "\n",
        "# Plot the results\n",
        "plt.figure(figsize=(10, 6))\n",
        "avg_revenue_by_day.plot(kind=\"bar\")\n",
        "plt.title(\"Average Revenue by Day of Week\")\n",
        "plt.xlabel(\"Day of Week\")\n",
        "plt.ylabel(\"Average Revenue\")\n",
        "plt.show()\n",
        "\n",
        "# Find the workday with the most sales\n",
        "best_day = avg_revenue_by_day.idxmax()"
      ],
      "metadata": {
        "colab": {
          "base_uri": "https://localhost:8080/",
          "height": 631
        },
        "id": "NZ6nh94QSHGj",
        "outputId": "2732690a-46b8-4d52-fef4-0bd3f68faca8"
      },
      "execution_count": 16,
      "outputs": [
        {
          "output_type": "display_data",
          "data": {
            "text/plain": [
              "<Figure size 1000x600 with 1 Axes>"
            ],
            "image/png": "[encoded data removed]"
          },
          "metadata": {}
        }
      ]
    },
    {
      "cell_type": "code",
      "source": [
        "# 1.3.2 Identify top products on the best day\n",
        "top_revenue_product_best_day = df[df[\"day_of_week\"] == best_day].groupby(\"productName_process\")[\"Revenue\"].sum().idxmax()\n",
        "top_sales_volume_product_best_day = df[df[\"day_of_week\"] == best_day].groupby(\"productName_process\")[\"Quantity\"].sum().idxmax()"
      ],
      "metadata": {
        "id": "dEXN0EhvTtUL"
      },
      "execution_count": 17,
      "outputs": []
    },
    {
      "cell_type": "code",
      "source": [
        "# 1.3.3 Plot top 5 products by revenue and sales volume\n",
        "top_revenue_products = df.groupby(\"productName_process\")[\"Revenue\"].sum().nlargest(5)\n",
        "top_sales_volume_products = df.groupby(\"productName_process\")[\"Quantity\"].sum().nlargest(5)\n",
        "\n",
        "fig, axes = plt.subplots(nrows=1, ncols=2, figsize=(15, 4))\n",
        "\n",
        "top_revenue_products.plot(kind=\"bar\", ax=axes[0])\n",
        "axes[0].set_title(\"Top 5 Products by Revenue\")\n",
        "axes[0].set_xlabel(\"Product Name\")\n",
        "axes[0].set_ylabel(\"Total Revenue\")\n",
        "\n",
        "top_sales_volume_products.plot(kind=\"bar\", ax=axes[1])\n",
        "axes[1].set_title(\"Top 5 Products by Sales Volume\")\n",
        "axes[1].set_xlabel(\"Product Name\")\n",
        "axes[1].set_ylabel(\"Total Sales Volume\")\n",
        "\n",
        "plt.show()"
      ],
      "metadata": {
        "colab": {
          "base_uri": "https://localhost:8080/",
          "height": 607
        },
        "id": "7OXXIqR8T6QY",
        "outputId": "c76f5c5f-08b8-413d-ff98-79d4bc88b2c6"
      },
      "execution_count": 18,
      "outputs": [
        {
          "output_type": "display_data",
          "data": {
            "text/plain": [
              "<Figure size 1500x400 with 2 Axes>"
            ],
            "image/png": "[encoded data removed]"
          },
          "metadata": {}
        }
      ]
    },
    {
      "cell_type": "code",
      "source": [
        "# Group by country and calculate total revenue\n",
        "total_revenue_by_country = df.groupby(\"Country\")[\"Revenue\"].sum()\n",
        "\n",
        "# Find the country with the highest revenue\n",
        "country_with_highest_revenue = total_revenue_by_country.idxmax()\n",
        "highest_revenue = total_revenue_by_country.max()\n",
        "\n",
        "# Find the month with the highest revenue in the top country\n",
        "df_top_country = df[df[\"Country\"] == country_with_highest_revenue]\n",
        "df_top_country[\"Month\"] = df_top_country[\"transaction_date\"].dt.month_name()\n",
        "\n",
        "total_revenue_by_month_top_country = df_top_country.groupby(\"Month\")[\"Revenue\"].sum()\n",
        "month_with_highest_revenue_top_country = total_revenue_by_month_top_country.idxmax()\n",
        "\n",
        "# Print the results\n",
        "print(\"Country with the highest revenue:\", country_with_highest_revenue)\n",
        "print(\"Highest revenue:\", highest_revenue)\n",
        "print(\"Month with the highest revenue in the top country:\", month_with_highest_revenue_top_country)\n",
        "print()"
      ],
      "metadata": {
        "colab": {
          "base_uri": "https://localhost:8080/"
        },
        "id": "kG5vdjh7T9bF",
        "outputId": "f8abe5ab-deb4-4361-d748-16cf7cb35516"
      },
      "execution_count": 19,
      "outputs": [
        {
          "output_type": "stream",
          "name": "stdout",
          "text": [
            "Country with the highest revenue: United Kingdom\n",
            "Highest revenue: 49994030.0\n",
            "Month with the highest revenue in the top country: November\n",
            "\n"
          ]
        }
      ]
    },
    {
      "cell_type": "code",
      "source": [
        "# Filter out non-shopping transactions (Quantity <= 0)\n",
        "df_shopping_transactions = df[df[\"Quantity\"] > 0]\n",
        "\n",
        "# Group by CustomerNo and count unique transactionNo\n",
        "customer_shopping_frequency = df_shopping_transactions.groupby(\"CustomerNo\")[\"TransactionNo\"].nunique()\n",
        "\n",
        "# Find the customer with the highest shopping frequency\n",
        "most_frequent_shopper = customer_shopping_frequency.idxmax()\n",
        "highest_frequency = customer_shopping_frequency.max()\n",
        "\n",
        "# Find the customer's preferred products\n",
        "preferred_products = df_shopping_transactions[df_shopping_transactions[\"CustomerNo\"] == most_frequent_shopper].groupby(\"productName_process\")[\"Quantity\"].sum().nlargest(5)\n",
        "\n",
        "# Print the results\n",
        "print(\"Customer with the highest shopping frequency:\", most_frequent_shopper)\n",
        "print(\"Highest shopping frequency:\", highest_frequency)\n",
        "print(\"Preferred products:\")\n",
        "print(preferred_products)"
      ],
      "metadata": {
        "colab": {
          "base_uri": "https://localhost:8080/"
        },
        "id": "ZP8O_5ExUnTz",
        "outputId": "10eda6c7-9f1b-4c2f-a96c-a91529bb1676"
      },
      "execution_count": 20,
      "outputs": [
        {
          "output_type": "stream",
          "name": "stdout",
          "text": [
            "Customer with the highest shopping frequency: 12748\n",
            "Highest shopping frequency: 207\n",
            "Preferred products:\n",
            "productName_process\n",
            "VictorianMetalPostcardSpring     595\n",
            "WorldWarGlidersAsstdDesigns      480\n",
            "RoseScentCandleJewelledDrawer    408\n",
            "CartoonPencilSharpeners          405\n",
            "SmallWhiteRetrospotMugInBox      390\n",
            "Name: Quantity, dtype: int32\n"
          ]
        }
      ]
    },
    {
      "cell_type": "code",
      "source": [
        "# Filter for positive quantity transactions\n",
        "df_shopping_transactions = df[df[\"Quantity\"] > 0]\n",
        "\n",
        "# 1.6.1 Group by transactionNo and aggregate product category and product name\n",
        "df_grouped = df_shopping_transactions.groupby(\"TransactionNo\").agg(\n",
        "    Product_category=(\"Product_category\", list),\n",
        "    productName_process=(\"productName_process\", list)\n",
        ")"
      ],
      "metadata": {
        "id": "30zzrptYU-7l"
      },
      "execution_count": 21,
      "outputs": []
    },
    {
      "cell_type": "code",
      "source": [
        "# 1.6.2 Remove adjacent duplicates from product_category list\n",
        "def remove_adjacent_duplicates(lst):\n",
        "    result = []\n",
        "    for item in lst:\n",
        "        if not result or item != result[-1]:\n",
        "            result.append(item)\n",
        "    return result\n",
        "\n",
        "df_grouped[\"Product_category\"] = df_grouped[\"Product_category\"].apply(remove_adjacent_duplicates)\n",
        "\n",
        "# Save as df_1 and print the top 10 rows\n",
        "df_1 = df_grouped\n",
        "print(df_1.head(10))"
      ],
      "metadata": {
        "colab": {
          "base_uri": "https://localhost:8080/"
        },
        "id": "wOcYxdODVksK",
        "outputId": "b14be2a9-b1ae-4b7b-a4a9-e8e2f582d0c0"
      },
      "execution_count": 22,
      "outputs": [
        {
          "output_type": "stream",
          "name": "stdout",
          "text": [
            "              Product_category  \\\n",
            "TransactionNo                    \n",
            "536365                   [0ca]   \n",
            "536366                   [0ca]   \n",
            "536367                   [0ca]   \n",
            "536368                   [0ca]   \n",
            "536369                   [0ca]   \n",
            "536370                   [0ca]   \n",
            "536371                   [0ca]   \n",
            "536372                   [0ca]   \n",
            "536373                   [0ca]   \n",
            "536374                   [0ca]   \n",
            "\n",
            "                                             productName_process  \n",
            "TransactionNo                                                     \n",
            "536365         [CreamHangingHeartTLightHolder, WhiteMoroccanM...  \n",
            "536366             [HandWarmerUnionJack, HandWarmerRedRetrospot]  \n",
            "536367         [AssortedColourBirdOrnament, PoppysPlayhouseBe...  \n",
            "536368         [JamMakingSetWithJars, RedCoatRackParisFashion...  \n",
            "536369                                   [BathBuildingBlockWord]  \n",
            "536370         [AlarmClockBakelikePink, AlarmClockBakelikeRed...  \n",
            "536371                                 [PaperChainKitSChristmas]  \n",
            "536372             [HandWarmerRedRetrospot, HandWarmerUnionJack]  \n",
            "536373         [CreamHangingHeartTLightHolder, WhiteMoroccanM...  \n",
            "536374                                 [VictorianSewingBoxLarge]  \n"
          ]
        }
      ]
    },
    {
      "cell_type": "code",
      "source": [
        "# 1.7.1 Create new column prod_len\n",
        "df_1[\"prod_len\"] = df_1[\"Product_category\"].apply(len)\n",
        "df_1.head()"
      ],
      "metadata": {
        "colab": {
          "base_uri": "https://localhost:8080/",
          "height": 238
        },
        "id": "YM8vOfgDWCdV",
        "outputId": "6e74fd88-6933-42de-f339-c306a4592c2b"
      },
      "execution_count": 23,
      "outputs": [
        {
          "output_type": "execute_result",
          "data": {
            "text/plain": [
              "              Product_category  \\\n",
              "TransactionNo                    \n",
              "536365                   [0ca]   \n",
              "536366                   [0ca]   \n",
              "536367                   [0ca]   \n",
              "536368                   [0ca]   \n",
              "536369                   [0ca]   \n",
              "\n",
              "                                             productName_process  prod_len  \n",
              "TransactionNo                                                               \n",
              "536365         [CreamHangingHeartTLightHolder, WhiteMoroccanM...         1  \n",
              "536366             [HandWarmerUnionJack, HandWarmerRedRetrospot]         1  \n",
              "536367         [AssortedColourBirdOrnament, PoppysPlayhouseBe...         1  \n",
              "536368         [JamMakingSetWithJars, RedCoatRackParisFashion...         1  \n",
              "536369                                   [BathBuildingBlockWord]         1  "
            ],
            "text/html": [
              "\n",
              "  <div id=\"df-4baac548-0cff-4b33-a165-d189f23ac362\" class=\"colab-df-container\">\n",
              "    <div>\n",
              "<style scoped>\n",
              "    .dataframe tbody tr th:only-of-type {\n",
              "        vertical-align: middle;\n",
              "    }\n",
              "\n",
              "    .dataframe tbody tr th {\n",
              "        vertical-align: top;\n",
              "    }\n",
              "\n",
              "    .dataframe thead th {\n",
              "        text-align: right;\n",
              "    }\n",
              "</style>\n",
              "<table border=\"1\" class=\"dataframe\">\n",
              "  <thead>\n",
              "    <tr style=\"text-align: right;\">\n",
              "      <th></th>\n",
              "      <th>Product_category</th>\n",
              "      <th>productName_process</th>\n",
              "      <th>prod_len</th>\n",
              "    </tr>\n",
              "    <tr>\n",
              "      <th>TransactionNo</th>\n",
              "      <th></th>\n",
              "      <th></th>\n",
              "      <th></th>\n",
              "    </tr>\n",
              "  </thead>\n",
              "  <tbody>\n",
              "    <tr>\n",
              "      <th>536365</th>\n",
              "      <td>[0ca]</td>\n",
              "      <td>[CreamHangingHeartTLightHolder, WhiteMoroccanM...</td>\n",
              "      <td>1</td>\n",
              "    </tr>\n",
              "    <tr>\n",
              "      <th>536366</th>\n",
              "      <td>[0ca]</td>\n",
              "      <td>[HandWarmerUnionJack, HandWarmerRedRetrospot]</td>\n",
              "      <td>1</td>\n",
              "    </tr>\n",
              "    <tr>\n",
              "      <th>536367</th>\n",
              "      <td>[0ca]</td>\n",
              "      <td>[AssortedColourBirdOrnament, PoppysPlayhouseBe...</td>\n",
              "      <td>1</td>\n",
              "    </tr>\n",
              "    <tr>\n",
              "      <th>536368</th>\n",
              "      <td>[0ca]</td>\n",
              "      <td>[JamMakingSetWithJars, RedCoatRackParisFashion...</td>\n",
              "      <td>1</td>\n",
              "    </tr>\n",
              "    <tr>\n",
              "      <th>536369</th>\n",
              "      <td>[0ca]</td>\n",
              "      <td>[BathBuildingBlockWord]</td>\n",
              "      <td>1</td>\n",
              "    </tr>\n",
              "  </tbody>\n",
              "</table>\n",
              "</div>\n",
              "    <div class=\"colab-df-buttons\">\n",
              "\n",
              "  <div class=\"colab-df-container\">\n",
              "    <button class=\"colab-df-convert\" onclick=\"convertToInteractive('df-4baac548-0cff-4b33-a165-d189f23ac362')\"\n",
              "            title=\"Convert this dataframe to an interactive table.\"\n",
              "            style=\"display:none;\">\n",
              "\n",
              "  <svg xmlns=\"http://www.w3.org/2000/svg\" height=\"24px\" viewBox=\"0 -960 960 960\">\n",
              "    <path d=\"M120-120v-720h720v720H120Zm60-500h600v-160H180v160Zm220 220h160v-160H400v160Zm0 220h160v-160H400v160ZM180-400h160v-160H180v160Zm440 0h160v-160H620v160ZM180-180h160v-160H180v160Zm440 0h160v-160H620v160Z\"/>\n",
              "  </svg>\n",
              "    </button>\n",
              "\n",
              "  <style>\n",
              "    .colab-df-container {\n",
              "      display:flex;\n",
              "      gap: 12px;\n",
              "    }\n",
              "\n",
              "    .colab-df-convert {\n",
              "      background-color: #E8F0FE;\n",
              "      border: none;\n",
              "      border-radius: 50%;\n",
              "      cursor: pointer;\n",
              "      display: none;\n",
              "      fill: #1967D2;\n",
              "      height: 32px;\n",
              "      padding: 0 0 0 0;\n",
              "      width: 32px;\n",
              "    }\n",
              "\n",
              "    .colab-df-convert:hover {\n",
              "      background-color: #E2EBFA;\n",
              "      box-shadow: 0px 1px 2px rgba(60, 64, 67, 0.3), 0px 1px 3px 1px rgba(60, 64, 67, 0.15);\n",
              "      fill: #174EA6;\n",
              "    }\n",
              "\n",
              "    .colab-df-buttons div {\n",
              "      margin-bottom: 4px;\n",
              "    }\n",
              "\n",
              "    [theme=dark] .colab-df-convert {\n",
              "      background-color: #3B4455;\n",
              "      fill: #D2E3FC;\n",
              "    }\n",
              "\n",
              "    [theme=dark] .colab-df-convert:hover {\n",
              "      background-color: #434B5C;\n",
              "      box-shadow: 0px 1px 3px 1px rgba(0, 0, 0, 0.15);\n",
              "      filter: drop-shadow(0px 1px 2px rgba(0, 0, 0, 0.3));\n",
              "      fill: #FFFFFF;\n",
              "    }\n",
              "  </style>\n",
              "\n",
              "    <script>\n",
              "      const buttonEl =\n",
              "        document.querySelector('#df-4baac548-0cff-4b33-a165-d189f23ac362 button.colab-df-convert');\n",
              "      buttonEl.style.display =\n",
              "        google.colab.kernel.accessAllowed ? 'block' : 'none';\n",
              "\n",
              "      async function convertToInteractive(key) {\n",
              "        const element = document.querySelector('#df-4baac548-0cff-4b33-a165-d189f23ac362');\n",
              "        const dataTable =\n",
              "          await google.colab.kernel.invokeFunction('convertToInteractive',\n",
              "                                                    [key], {});\n",
              "        if (!dataTable) return;\n",
              "\n",
              "        const docLinkHtml = 'Like what you see? Visit the ' +\n",
              "          '<a target=\"_blank\" href=https://colab.research.google.com/notebooks/data_table.ipynb>data table notebook</a>'\n",
              "          + ' to learn more about interactive tables.';\n",
              "        element.innerHTML = '';\n",
              "        dataTable['output_type'] = 'display_data';\n",
              "        await google.colab.output.renderOutput(dataTable, element);\n",
              "        const docLink = document.createElement('div');\n",
              "        docLink.innerHTML = docLinkHtml;\n",
              "        element.appendChild(docLink);\n",
              "      }\n",
              "    </script>\n",
              "  </div>\n",
              "\n",
              "\n",
              "<div id=\"df-bb255854-52ca-4d05-b3df-5705892cfe69\">\n",
              "  <button class=\"colab-df-quickchart\" onclick=\"quickchart('df-bb255854-52ca-4d05-b3df-5705892cfe69')\"\n",
              "            title=\"Suggest charts\"\n",
              "            style=\"display:none;\">\n",
              "\n",
              "<svg xmlns=\"http://www.w3.org/2000/svg\" height=\"24px\"viewBox=\"0 0 24 24\"\n",
              "     width=\"24px\">\n",
              "    <g>\n",
              "        <path d=\"M19 3H5c-1.1 0-2 .9-2 2v14c0 1.1.9 2 2 2h14c1.1 0 2-.9 2-2V5c0-1.1-.9-2-2-2zM9 17H7v-7h2v7zm4 0h-2V7h2v10zm4 0h-2v-4h2v4z\"/>\n",
              "    </g>\n",
              "</svg>\n",
              "  </button>\n",
              "\n",
              "<style>\n",
              "  .colab-df-quickchart {\n",
              "      --bg-color: #E8F0FE;\n",
              "      --fill-color: #1967D2;\n",
              "      --hover-bg-color: #E2EBFA;\n",
              "      --hover-fill-color: #174EA6;\n",
              "      --disabled-fill-color: #AAA;\n",
              "      --disabled-bg-color: #DDD;\n",
              "  }\n",
              "\n",
              "  [theme=dark] .colab-df-quickchart {\n",
              "      --bg-color: #3B4455;\n",
              "      --fill-color: #D2E3FC;\n",
              "      --hover-bg-color: #434B5C;\n",
              "      --hover-fill-color: #FFFFFF;\n",
              "      --disabled-bg-color: #3B4455;\n",
              "      --disabled-fill-color: #666;\n",
              "  }\n",
              "\n",
              "  .colab-df-quickchart {\n",
              "    background-color: var(--bg-color);\n",
              "    border: none;\n",
              "    border-radius: 50%;\n",
              "    cursor: pointer;\n",
              "    display: none;\n",
              "    fill: var(--fill-color);\n",
              "    height: 32px;\n",
              "    padding: 0;\n",
              "    width: 32px;\n",
              "  }\n",
              "\n",
              "  .colab-df-quickchart:hover {\n",
              "    background-color: var(--hover-bg-color);\n",
              "    box-shadow: 0 1px 2px rgba(60, 64, 67, 0.3), 0 1px 3px 1px rgba(60, 64, 67, 0.15);\n",
              "    fill: var(--button-hover-fill-color);\n",
              "  }\n",
              "\n",
              "  .colab-df-quickchart-complete:disabled,\n",
              "  .colab-df-quickchart-complete:disabled:hover {\n",
              "    background-color: var(--disabled-bg-color);\n",
              "    fill: var(--disabled-fill-color);\n",
              "    box-shadow: none;\n",
              "  }\n",
              "\n",
              "  .colab-df-spinner {\n",
              "    border: 2px solid var(--fill-color);\n",
              "    border-color: transparent;\n",
              "    border-bottom-color: var(--fill-color);\n",
              "    animation:\n",
              "      spin 1s steps(1) infinite;\n",
              "  }\n",
              "\n",
              "  @keyframes spin {\n",
              "    0% {\n",
              "      border-color: transparent;\n",
              "      border-bottom-color: var(--fill-color);\n",
              "      border-left-color: var(--fill-color);\n",
              "    }\n",
              "    20% {\n",
              "      border-color: transparent;\n",
              "      border-left-color: var(--fill-color);\n",
              "      border-top-color: var(--fill-color);\n",
              "    }\n",
              "    30% {\n",
              "      border-color: transparent;\n",
              "      border-left-color: var(--fill-color);\n",
              "      border-top-color: var(--fill-color);\n",
              "      border-right-color: var(--fill-color);\n",
              "    }\n",
              "    40% {\n",
              "      border-color: transparent;\n",
              "      border-right-color: var(--fill-color);\n",
              "      border-top-color: var(--fill-color);\n",
              "    }\n",
              "    60% {\n",
              "      border-color: transparent;\n",
              "      border-right-color: var(--fill-color);\n",
              "    }\n",
              "    80% {\n",
              "      border-color: transparent;\n",
              "      border-right-color: var(--fill-color);\n",
              "      border-bottom-color: var(--fill-color);\n",
              "    }\n",
              "    90% {\n",
              "      border-color: transparent;\n",
              "      border-bottom-color: var(--fill-color);\n",
              "    }\n",
              "  }\n",
              "</style>\n",
              "\n",
              "  <script>\n",
              "    async function quickchart(key) {\n",
              "      const quickchartButtonEl =\n",
              "        document.querySelector('#' + key + ' button');\n",
              "      quickchartButtonEl.disabled = true;  // To prevent multiple clicks.\n",
              "      quickchartButtonEl.classList.add('colab-df-spinner');\n",
              "      try {\n",
              "        const charts = await google.colab.kernel.invokeFunction(\n",
              "            'suggestCharts', [key], {});\n",
              "      } catch (error) {\n",
              "        console.error('Error during call to suggestCharts:', error);\n",
              "      }\n",
              "      quickchartButtonEl.classList.remove('colab-df-spinner');\n",
              "      quickchartButtonEl.classList.add('colab-df-quickchart-complete');\n",
              "    }\n",
              "    (() => {\n",
              "      let quickchartButtonEl =\n",
              "        document.querySelector('#df-bb255854-52ca-4d05-b3df-5705892cfe69 button');\n",
              "      quickchartButtonEl.style.display =\n",
              "        google.colab.kernel.accessAllowed ? 'block' : 'none';\n",
              "    })();\n",
              "  </script>\n",
              "</div>\n",
              "\n",
              "    </div>\n",
              "  </div>\n"
            ],
            "application/vnd.google.colaboratory.intrinsic+json": {
              "type": "dataframe",
              "variable_name": "df_1",
              "summary": "{\n  \"name\": \"df_1\",\n  \"rows\": 19790,\n  \"fields\": [\n    {\n      \"column\": \"TransactionNo\",\n      \"properties\": {\n        \"dtype\": \"string\",\n        \"num_unique_values\": 19790,\n        \"samples\": [\n          \"544460\",\n          \"576063\",\n          \"548324\"\n        ],\n        \"semantic_type\": \"\",\n        \"description\": \"\"\n      }\n    },\n    {\n      \"column\": \"Product_category\",\n      \"properties\": {\n        \"dtype\": \"object\",\n        \"semantic_type\": \"\",\n        \"description\": \"\"\n      }\n    },\n    {\n      \"column\": \"productName_process\",\n      \"properties\": {\n        \"dtype\": \"object\",\n        \"semantic_type\": \"\",\n        \"description\": \"\"\n      }\n    },\n    {\n      \"column\": \"prod_len\",\n      \"properties\": {\n        \"dtype\": \"number\",\n        \"std\": 0,\n        \"min\": 1,\n        \"max\": 13,\n        \"num_unique_values\": 9,\n        \"samples\": [\n          9,\n          3,\n          7\n        ],\n        \"semantic_type\": \"\",\n        \"description\": \"\"\n      }\n    }\n  ]\n}"
            }
          },
          "metadata": {},
          "execution_count": 23
        }
      ]
    },
    {
      "cell_type": "code",
      "source": [
        "# 1.7.2 Transform the list into a path-based representation\n",
        "def data_processing(df, maxlength=3, minlength=1):\n",
        "    df_filtered = df[(df[\"prod_len\"] <= maxlength) & (df[\"prod_len\"] >= minlength)]\n",
        "\n",
        "    df_filtered[\"path\"] = df_filtered[\"Product_category\"].apply(\n",
        "        lambda lst: \"start > \" + \" > \".join(lst) + \" > conversion\"\n",
        "    )\n",
        "\n",
        "    return df_filtered\n",
        "\n",
        "# Run the function and print the results\n",
        "df_2 = data_processing(df_1, maxlength=5, minlength=2)\n",
        "print(df_2.head(10))"
      ],
      "metadata": {
        "colab": {
          "base_uri": "https://localhost:8080/"
        },
        "id": "NQnqZItdWtMe",
        "outputId": "05df3c5c-0d8e-4bde-fae4-cd30524719c4"
      },
      "execution_count": 24,
      "outputs": [
        {
          "output_type": "stream",
          "name": "stdout",
          "text": [
            "                        Product_category  \\\n",
            "TransactionNo                              \n",
            "536378                   [0ca, 1ca, 0ca]   \n",
            "536395                   [0ca, 1ca, 0ca]   \n",
            "536404         [0ca, 1ca, 0ca, 4ca, 0ca]   \n",
            "536408                   [0ca, 1ca, 0ca]   \n",
            "536412                   [0ca, 4ca, 0ca]   \n",
            "536415                   [0ca, 1ca, 0ca]   \n",
            "536464                   [0ca, 1ca, 0ca]   \n",
            "536532                   [0ca, 1ca, 0ca]   \n",
            "536542                        [0ca, 4ca]   \n",
            "536544         [0ca, 1ca, 0ca, 4ca, 0ca]   \n",
            "\n",
            "                                             productName_process  prod_len  \\\n",
            "TransactionNo                                                                \n",
            "536378         [StrawberryCharlotteBag, ChildrensCutleryRetro...         3   \n",
            "536395         [BlackHeartCardHolder, AssortedColourBirdOrnam...         3   \n",
            "536404         [HeartIvoryTrellisSmall, ClearDrawerKnobAcryli...         5   \n",
            "536408         [MagicDrawingSlateDinosaur, MagicDrawingSlateB...         3   \n",
            "536412         [RoundSnackBoxesSetOfWoodland, RoundSnackBoxes...         3   \n",
            "536415         [CakeCasesVintageChristmas, PaperChainKitVinta...         3   \n",
            "536464         [BlackSweetheartBracelet, DiamanteHairGripPack...         3   \n",
            "536532         [BoxOfCocktailParasols, GrowYourOwnPlantInACan...         3   \n",
            "536542         [RecyclingBagRetrospot, JumboStorageBagSkulls,...         2   \n",
            "536544         [DecorativeRoseBathroomBottle, DecorativeCatsB...         5   \n",
            "\n",
            "                                                           path  \n",
            "TransactionNo                                                    \n",
            "536378                     start > 0ca > 1ca > 0ca > conversion  \n",
            "536395                     start > 0ca > 1ca > 0ca > conversion  \n",
            "536404         start > 0ca > 1ca > 0ca > 4ca > 0ca > conversion  \n",
            "536408                     start > 0ca > 1ca > 0ca > conversion  \n",
            "536412                     start > 0ca > 4ca > 0ca > conversion  \n",
            "536415                     start > 0ca > 1ca > 0ca > conversion  \n",
            "536464                     start > 0ca > 1ca > 0ca > conversion  \n",
            "536532                     start > 0ca > 1ca > 0ca > conversion  \n",
            "536542                           start > 0ca > 4ca > conversion  \n",
            "536544         start > 0ca > 1ca > 0ca > 4ca > 0ca > conversion  \n"
          ]
        }
      ]
    },
    {
      "cell_type": "code",
      "source": [
        "# 1.8.1 Count transactions ending with specific patterns\n",
        "ending_patterns = [\"... > 0ca > conversion\", \"... > 1ca > conversion\", \"... > 2ca > conversion\", \"... > 3ca > conversion\", \"... > 4ca > conversion\"]\n",
        "ending_pattern_counts = [df_2[df_2[\"path\"].str.endswith(pattern)].shape[0] for pattern in ending_patterns]"
      ],
      "metadata": {
        "id": "U6UHFVDWXbZy"
      },
      "execution_count": 25,
      "outputs": []
    },
    {
      "cell_type": "code",
      "source": [
        "# 1.8.2 Count occurrences of internal transitions\n",
        "internal_transitions = [\"0ca > 0ca\", \"0ca > 1ca\", \"0ca > 2ca\", \"0ca > 3ca\", \"0ca > 4ca\", \"0ca > conversion\"]\n",
        "transition_counts = [df_2[\"path\"].str.count(transition).sum() for transition in internal_transitions]"
      ],
      "metadata": {
        "id": "4AVlQv_aXzNF"
      },
      "execution_count": 26,
      "outputs": []
    },
    {
      "cell_type": "code",
      "source": [
        "# 1.8.3 Count occurrences of \"...> 0ca > ...\"\n",
        "pattern_0ca = \"...> 0ca > ...\"\n",
        "pattern_0ca_count = df_2[\"path\"].str.count(pattern_0ca).sum()"
      ],
      "metadata": {
        "id": "rRBqZwE_X17k"
      },
      "execution_count": 27,
      "outputs": []
    },
    {
      "cell_type": "code",
      "source": [
        "# 1.8.4 Calculate the final value\n",
        "final_value = sum([transition_count / pattern_0ca_count for transition_count in transition_counts])"
      ],
      "metadata": {
        "id": "9-36s260X4dI"
      },
      "execution_count": 28,
      "outputs": []
    },
    {
      "cell_type": "code",
      "source": [
        "# Print the results\n",
        "print(\"Ending pattern counts:\", ending_pattern_counts)\n",
        "print(\"Transition counts:\", transition_counts)\n",
        "print(\"Pattern 0ca count:\", pattern_0ca_count)\n",
        "print(\"Final value:\", final_value)"
      ],
      "metadata": {
        "colab": {
          "base_uri": "https://localhost:8080/"
        },
        "id": "EtnytMYCX7Yd",
        "outputId": "17a0db30-7577-4ad5-88bf-1d9b87bf0391"
      },
      "execution_count": 29,
      "outputs": [
        {
          "output_type": "stream",
          "name": "stdout",
          "text": [
            "Ending pattern counts: [0, 0, 0, 0, 0]\n",
            "Transition counts: [0, 1222, 1137, 343, 1198, 3056]\n",
            "Pattern 0ca count: 3995\n",
            "Final value: 1.7411764705882353\n"
          ]
        }
      ]
    },
    {
      "cell_type": "code",
      "source": [
        "# 1.9.1 Prepare the transaction level product dataframe\n",
        "df_filtered = df[df[\"Quantity\"] > 0]\n",
        "\n",
        "# Get the top 100 products by total quantity\n",
        "top_100_products = df_filtered.groupby(\"productName_process\")[\"Quantity\"].sum().nlargest(100)\n",
        "\n",
        "# Filter the DataFrame to include only the top 100 products\n",
        "df_top_100 = df_filtered[df_filtered[\"productName_process\"].isin(top_100_products.index)]\n",
        "\n",
        "# Pivot the DataFrame to create a transaction-product matrix\n",
        "basket_df = df_top_100.pivot(columns=\"productName_process\", values=\"Quantity\").fillna(0).reset_index(drop=True)\n",
        "basket_df[basket_df >= 4] = True\n",
        "basket_df[basket_df < 4] = False"
      ],
      "metadata": {
        "id": "unGkbpd8YAg7"
      },
      "execution_count": 30,
      "outputs": []
    },
    {
      "cell_type": "code",
      "source": [
        "# basket_df.to_csv(\"/content/drive/MyDrive/MDS_Deakin_University/Trimester_2/SIG742-Modern_Data_Science/Task_2/basket_df.csv\")"
      ],
      "metadata": {
        "id": "Ks-P5LQTc39K"
      },
      "execution_count": 31,
      "outputs": []
    },
    {
      "cell_type": "code",
      "source": [
        "# import numpy as np\n",
        "\n",
        "# dataset = df_top_100.iloc[:,9]\n",
        "# # df_top_100[[\"productName_process\"]]\n",
        "\n",
        "# print(len(list(dataset)))"
      ],
      "metadata": {
        "id": "2pGJt6V9kRRm"
      },
      "execution_count": 32,
      "outputs": []
    },
    {
      "cell_type": "code",
      "source": [
        "# 1.9.2 Run apriori algorithm with minimum support of 1.5% and minimum basket size of 4\n",
        "frequent_itemsets = apriori(basket_df, min_support=0.015)\n",
        "\n",
        "frequent_itemsets\n",
        "\n",
        "# rules = association_rules(frequent_itemsets, metric=\"lift\")\n",
        "\n",
        "# # Print the rules\n",
        "# print(rules)"
      ],
      "metadata": {
        "colab": {
          "base_uri": "https://localhost:8080/",
          "height": 89
        },
        "id": "4bUMW31YYUuD",
        "outputId": "18fa2099-e034-49a4-a823-c38145e317c0"
      },
      "execution_count": 33,
      "outputs": [
        {
          "output_type": "execute_result",
          "data": {
            "text/plain": [
              "Empty DataFrame\n",
              "Columns: [support, itemsets]\n",
              "Index: []"
            ],
            "text/html": [
              "\n",
              "  <div id=\"df-121afd8a-1ec9-43ae-859a-07249016698b\" class=\"colab-df-container\">\n",
              "    <div>\n",
              "<style scoped>\n",
              "    .dataframe tbody tr th:only-of-type {\n",
              "        vertical-align: middle;\n",
              "    }\n",
              "\n",
              "    .dataframe tbody tr th {\n",
              "        vertical-align: top;\n",
              "    }\n",
              "\n",
              "    .dataframe thead th {\n",
              "        text-align: right;\n",
              "    }\n",
              "</style>\n",
              "<table border=\"1\" class=\"dataframe\">\n",
              "  <thead>\n",
              "    <tr style=\"text-align: right;\">\n",
              "      <th></th>\n",
              "      <th>support</th>\n",
              "      <th>itemsets</th>\n",
              "    </tr>\n",
              "  </thead>\n",
              "  <tbody>\n",
              "  </tbody>\n",
              "</table>\n",
              "</div>\n",
              "    <div class=\"colab-df-buttons\">\n",
              "\n",
              "  <div class=\"colab-df-container\">\n",
              "    <button class=\"colab-df-convert\" onclick=\"convertToInteractive('df-121afd8a-1ec9-43ae-859a-07249016698b')\"\n",
              "            title=\"Convert this dataframe to an interactive table.\"\n",
              "            style=\"display:none;\">\n",
              "\n",
              "  <svg xmlns=\"http://www.w3.org/2000/svg\" height=\"24px\" viewBox=\"0 -960 960 960\">\n",
              "    <path d=\"M120-120v-720h720v720H120Zm60-500h600v-160H180v160Zm220 220h160v-160H400v160Zm0 220h160v-160H400v160ZM180-400h160v-160H180v160Zm440 0h160v-160H620v160ZM180-180h160v-160H180v160Zm440 0h160v-160H620v160Z\"/>\n",
              "  </svg>\n",
              "    </button>\n",
              "\n",
              "  <style>\n",
              "    .colab-df-container {\n",
              "      display:flex;\n",
              "      gap: 12px;\n",
              "    }\n",
              "\n",
              "    .colab-df-convert {\n",
              "      background-color: #E8F0FE;\n",
              "      border: none;\n",
              "      border-radius: 50%;\n",
              "      cursor: pointer;\n",
              "      display: none;\n",
              "      fill: #1967D2;\n",
              "      height: 32px;\n",
              "      padding: 0 0 0 0;\n",
              "      width: 32px;\n",
              "    }\n",
              "\n",
              "    .colab-df-convert:hover {\n",
              "      background-color: #E2EBFA;\n",
              "      box-shadow: 0px 1px 2px rgba(60, 64, 67, 0.3), 0px 1px 3px 1px rgba(60, 64, 67, 0.15);\n",
              "      fill: #174EA6;\n",
              "    }\n",
              "\n",
              "    .colab-df-buttons div {\n",
              "      margin-bottom: 4px;\n",
              "    }\n",
              "\n",
              "    [theme=dark] .colab-df-convert {\n",
              "      background-color: #3B4455;\n",
              "      fill: #D2E3FC;\n",
              "    }\n",
              "\n",
              "    [theme=dark] .colab-df-convert:hover {\n",
              "      background-color: #434B5C;\n",
              "      box-shadow: 0px 1px 3px 1px rgba(0, 0, 0, 0.15);\n",
              "      filter: drop-shadow(0px 1px 2px rgba(0, 0, 0, 0.3));\n",
              "      fill: #FFFFFF;\n",
              "    }\n",
              "  </style>\n",
              "\n",
              "    <script>\n",
              "      const buttonEl =\n",
              "        document.querySelector('#df-121afd8a-1ec9-43ae-859a-07249016698b button.colab-df-convert');\n",
              "      buttonEl.style.display =\n",
              "        google.colab.kernel.accessAllowed ? 'block' : 'none';\n",
              "\n",
              "      async function convertToInteractive(key) {\n",
              "        const element = document.querySelector('#df-121afd8a-1ec9-43ae-859a-07249016698b');\n",
              "        const dataTable =\n",
              "          await google.colab.kernel.invokeFunction('convertToInteractive',\n",
              "                                                    [key], {});\n",
              "        if (!dataTable) return;\n",
              "\n",
              "        const docLinkHtml = 'Like what you see? Visit the ' +\n",
              "          '<a target=\"_blank\" href=https://colab.research.google.com/notebooks/data_table.ipynb>data table notebook</a>'\n",
              "          + ' to learn more about interactive tables.';\n",
              "        element.innerHTML = '';\n",
              "        dataTable['output_type'] = 'display_data';\n",
              "        await google.colab.output.renderOutput(dataTable, element);\n",
              "        const docLink = document.createElement('div');\n",
              "        docLink.innerHTML = docLinkHtml;\n",
              "        element.appendChild(docLink);\n",
              "      }\n",
              "    </script>\n",
              "  </div>\n",
              "\n",
              "\n",
              "  <div id=\"id_f8240abc-9ba0-4859-a85d-281a4d27832c\">\n",
              "    <style>\n",
              "      .colab-df-generate {\n",
              "        background-color: #E8F0FE;\n",
              "        border: none;\n",
              "        border-radius: 50%;\n",
              "        cursor: pointer;\n",
              "        display: none;\n",
              "        fill: #1967D2;\n",
              "        height: 32px;\n",
              "        padding: 0 0 0 0;\n",
              "        width: 32px;\n",
              "      }\n",
              "\n",
              "      .colab-df-generate:hover {\n",
              "        background-color: #E2EBFA;\n",
              "        box-shadow: 0px 1px 2px rgba(60, 64, 67, 0.3), 0px 1px 3px 1px rgba(60, 64, 67, 0.15);\n",
              "        fill: #174EA6;\n",
              "      }\n",
              "\n",
              "      [theme=dark] .colab-df-generate {\n",
              "        background-color: #3B4455;\n",
              "        fill: #D2E3FC;\n",
              "      }\n",
              "\n",
              "      [theme=dark] .colab-df-generate:hover {\n",
              "        background-color: #434B5C;\n",
              "        box-shadow: 0px 1px 3px 1px rgba(0, 0, 0, 0.15);\n",
              "        filter: drop-shadow(0px 1px 2px rgba(0, 0, 0, 0.3));\n",
              "        fill: #FFFFFF;\n",
              "      }\n",
              "    </style>\n",
              "    <button class=\"colab-df-generate\" onclick=\"generateWithVariable('frequent_itemsets')\"\n",
              "            title=\"Generate code using this dataframe.\"\n",
              "            style=\"display:none;\">\n",
              "\n",
              "  <svg xmlns=\"http://www.w3.org/2000/svg\" height=\"24px\"viewBox=\"0 0 24 24\"\n",
              "       width=\"24px\">\n",
              "    <path d=\"M7,19H8.4L18.45,9,17,7.55,7,17.6ZM5,21V16.75L18.45,3.32a2,2,0,0,1,2.83,0l1.4,1.43a1.91,1.91,0,0,1,.58,1.4,1.91,1.91,0,0,1-.58,1.4L9.25,21ZM18.45,9,17,7.55Zm-12,3A5.31,5.31,0,0,0,4.9,8.1,5.31,5.31,0,0,0,1,6.5,5.31,5.31,0,0,0,4.9,4.9,5.31,5.31,0,0,0,6.5,1,5.31,5.31,0,0,0,8.1,4.9,5.31,5.31,0,0,0,12,6.5,5.46,5.46,0,0,0,6.5,12Z\"/>\n",
              "  </svg>\n",
              "    </button>\n",
              "    <script>\n",
              "      (() => {\n",
              "      const buttonEl =\n",
              "        document.querySelector('#id_f8240abc-9ba0-4859-a85d-281a4d27832c button.colab-df-generate');\n",
              "      buttonEl.style.display =\n",
              "        google.colab.kernel.accessAllowed ? 'block' : 'none';\n",
              "\n",
              "      buttonEl.onclick = () => {\n",
              "        google.colab.notebook.generateWithVariable('frequent_itemsets');\n",
              "      }\n",
              "      })();\n",
              "    </script>\n",
              "  </div>\n",
              "\n",
              "    </div>\n",
              "  </div>\n"
            ],
            "application/vnd.google.colaboratory.intrinsic+json": {
              "type": "dataframe",
              "variable_name": "frequent_itemsets",
              "repr_error": "Out of range float values are not JSON compliant: nan"
            }
          },
          "metadata": {},
          "execution_count": 33
        }
      ]
    },
    {
      "cell_type": "code",
      "source": [
        "# # 1.9.3 Run apriori algorithm with support >= 1.0% and lift > 10\n",
        "# frequent_itemsets_2 = apriori(basket_df, min_support=0.01, use_colnames=True)\n",
        "# rules_2 = association_rules(frequent_itemsets_2, metric=\"lift\", min_threshold=10)\n",
        "\n",
        "# # Print the rules\n",
        "# print(rules_2)"
      ],
      "metadata": {
        "id": "iZSdzX-NYaOR"
      },
      "execution_count": 34,
      "outputs": []
    },
    {
      "cell_type": "code",
      "source": [
        "# 1.10.1 Build the customer-product dataframe\n",
        "df_filtered = df[df[\"Quantity\"] > 0]\n",
        "\n",
        "# Get the top 100 products by total quantity\n",
        "top_100_products = df_filtered.groupby(\"productName_process\")[\"Quantity\"].sum().nlargest(100)\n",
        "\n",
        "# Filter the DataFrame to include only the top 100 products\n",
        "df_top_100 = df_filtered[df_filtered[\"productName_process\"].isin(top_100_products.index)]\n",
        "\n",
        "# Pivot the DataFrame to create a customer-product matrix\n",
        "customer_product_matrix = df_top_100.pivot(columns=\"productName_process\", values=\"Quantity\").fillna(0).reset_index(drop=True)"
      ],
      "metadata": {
        "id": "m41jQJFuoNp9"
      },
      "execution_count": 35,
      "outputs": []
    },
    {
      "cell_type": "code",
      "source": [
        "# 1.10.2 Calculate pairwise Euclidean distance\n",
        "customer_distances = euclidean_distances(customer_product_matrix)"
      ],
      "metadata": {
        "id": "AZMtwt6iy8-M"
      },
      "execution_count": null,
      "outputs": []
    },
    {
      "cell_type": "code",
      "source": [
        "# 1.10.3 Find the top 3 most similar customers\n",
        "def find_similar_customers(customer_id, distance_matrix, top_n=3):\n",
        "    distances = distance_matrix[customer_id]\n",
        "    most_similar_indices = distances.argsort()[1:top_n + 1]\n",
        "    return most_similar_indices\n",
        "\n",
        "similar_customers_13069 = find_similar_customers(13069, customer_distances)\n",
        "similar_customers_17490 = find_similar_customers(17490, customer_distances)"
      ],
      "metadata": {
        "id": "Qcp8ZZLczNH9"
      },
      "execution_count": null,
      "outputs": []
    },
    {
      "cell_type": "code",
      "source": [
        "# Print the results\n",
        "print(\"Similar customers to 13069:\", similar_customers_13069)\n",
        "print(\"Similar customers to 17490:\", similar_customers_17490)"
      ],
      "metadata": {
        "id": "ytwOn7BfzTsx"
      },
      "execution_count": null,
      "outputs": []
    },
    {
      "cell_type": "markdown",
      "source": [
        "# Part II"
      ],
      "metadata": {
        "id": "U5_EJAl64i2f"
      }
    },
    {
      "cell_type": "code",
      "source": [
        "# # Create the new dataframe with required/interasted columns\n",
        "\n",
        "# df_time_series = df[[\"transaction_date\", \"Revenue\"]]\n",
        "\n",
        "# df_time_series.head()\n",
        "\n",
        "# # Create a date range covering the entire time period\n",
        "# start_date = df_time_series[\"transaction_date\"].min()\n",
        "# end_date = df_time_series[\"transaction_date\"].max()\n",
        "# date_range = pd.date_range(start_date, end_date)\n",
        "\n",
        "# # Fill in missing dates with mean revenue\n",
        "# df_with_missing_dates = pd.DataFrame(index=date_range)\n",
        "\n",
        "# df_with_missing_dates\n",
        "\n",
        "# df_with_missing_dates[\"Revenue\"] = df.set_index(\"transaction_date\")[\"Revenue\"]\n",
        "# df_with_missing_dates[\"Revenue\"].fillna(df[\"Revenue\"].mean(), inplace=True)\n",
        "\n",
        "# # Decompose the time series\n",
        "# decomposition = seasonal_decompose(df_with_missing_dates[\"Revenue\"], model=\"additive\")\n",
        "\n",
        "# # Plot the components\n",
        "# decomposition.plot()\n",
        "# plt.show()"
      ],
      "metadata": {
        "id": "jjQS--YpzuFe"
      },
      "execution_count": null,
      "outputs": []
    },
    {
      "cell_type": "code",
      "source": [],
      "metadata": {
        "id": "-aUziWU15Eit"
      },
      "execution_count": null,
      "outputs": []
    }
  ]
}