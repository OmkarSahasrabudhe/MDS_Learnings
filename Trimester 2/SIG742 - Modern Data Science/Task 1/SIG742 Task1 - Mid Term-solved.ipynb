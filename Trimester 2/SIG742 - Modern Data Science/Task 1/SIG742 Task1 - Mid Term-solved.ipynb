{
 "cells": [
  {
   "cell_type": "code",
   "execution_count": 1,
   "id": "a7cd7dc9",
   "metadata": {},
   "outputs": [],
   "source": [
    "# Necessary libraries\n",
    "import math\n",
    "import unittest\n",
    "from itertools import product\n",
    "\n",
    "from inspect import signature\n",
    "\n",
    "from nbpep8.nbpep8 import pep8"
   ]
  },
  {
   "cell_type": "code",
   "execution_count": 2,
   "id": "16861d33",
   "metadata": {},
   "outputs": [],
   "source": [
    "# Install required for pep8\n",
    "\n",
    "# !pip install pycodestyle\n",
    "# !pip install --index-url https://test.pypi.org/simple/ nbpep8"
   ]
  },
  {
   "cell_type": "markdown",
   "id": "3b9ab5c5",
   "metadata": {},
   "source": [
    "### Question 1.1\n",
    "\n",
    "Write a method “is ̇divisible” that takes two integers, m and n. The method returns True if m is divisible by n, and returns False otherwise. Give three test cases for this function and three test cases should include cases that return values on True and False. Be sure to test your function well, including at least three test cases."
   ]
  },
  {
   "cell_type": "markdown",
   "id": "bbea78cf",
   "metadata": {},
   "source": [
    "### Answer 1.1"
   ]
  },
  {
   "cell_type": "code",
   "execution_count": 3,
   "id": "c8f44558",
   "metadata": {},
   "outputs": [
    {
     "name": "stdout",
     "output_type": "stream",
     "text": [
      "\n"
     ]
    }
   ],
   "source": [
    "def is_divisible(m, n):\n",
    "    '''\n",
    "    Checks if m is divisible by n.\n",
    "    Args:\n",
    "    m: The first value (dividend).\n",
    "    n: The second value (divisor).\n",
    "    Returns:\n",
    "    True if m is divisible by n, False otherwise.\n",
    "    '''\n",
    "    args_count = len(signature(is_divisible).parameters)\n",
    "    if args_count == 2:\n",
    "        # If the divisor (n) is 0, raise ZeroDivisionError excetion.\n",
    "        if n == 0:\n",
    "            raise ZeroDivisionError\n",
    "\n",
    "        # If the type of dividend (m) or divisor (n) is not integer,\n",
    "        # raise TypeError excetion.\n",
    "        if type(m) is not int or type(m) is not int:\n",
    "            raise TypeError\n",
    "\n",
    "        # If the remainder of m division n is zero,\n",
    "        # return True as m is divisible by n.\n",
    "        if m % n == 0:\n",
    "            return True\n",
    "\n",
    "        # Else the remainder of m division n is not zero,\n",
    "        # return False as m is not divisible by n.\n",
    "        else:\n",
    "            return False\n",
    "    else:\n",
    "        raise TypeError\n",
    "\n",
    "\n",
    "pep8(_ih)"
   ]
  },
  {
   "cell_type": "markdown",
   "id": "7bc504b7",
   "metadata": {},
   "source": [
    "**Test cases for is_divisible(m, n)**"
   ]
  },
  {
   "cell_type": "code",
   "execution_count": 4,
   "id": "7bd648b1",
   "metadata": {},
   "outputs": [
    {
     "name": "stderr",
     "output_type": "stream",
     "text": [
      ".....\n",
      "----------------------------------------------------------------------\n",
      "Ran 5 tests in 0.004s\n",
      "\n",
      "OK\n"
     ]
    },
    {
     "name": "stdout",
     "output_type": "stream",
     "text": [
      "\n"
     ]
    }
   ],
   "source": [
    "class TestIsDivisible(unittest.TestCase):\n",
    "    '''\n",
    "    This class tests the is_divisible(m, n)\n",
    "    for successful executions and exception handling.\n",
    "    '''\n",
    "    def test_is_divisible_true(self):\n",
    "        '''\n",
    "        Validates the is_divisible(m, n)\n",
    "        for return true i.e. m is divisible by n.\n",
    "        '''\n",
    "        actual = is_divisible(10, 5)\n",
    "        self.assertTrue(actual)\n",
    "\n",
    "    def test_is_divisible_false(self):\n",
    "        '''\n",
    "        Validates the is_divisible(m, n)\n",
    "        for return false i.e. m is not divisible by n.\n",
    "        '''\n",
    "        actual = is_divisible(3, 8)\n",
    "        self.assertFalse(actual)\n",
    "\n",
    "    def test_is_divisible_typeError_exception(self):\n",
    "        '''\n",
    "        Validates the is_divisible(m, n)\n",
    "        for TypeError exception i.e. n is a string.\n",
    "        '''\n",
    "        with self.assertRaises(TypeError):\n",
    "            is_divisible(3342, \"434q\")\n",
    "\n",
    "    def test_is_divisible_ZeroDivisionError_exception(self):\n",
    "        '''\n",
    "        Validates the is_divisible(m, n)\n",
    "        for ZeroDivisionError exception i.e. n is 0.\n",
    "        '''\n",
    "        with self.assertRaises(ZeroDivisionError):\n",
    "            is_divisible(2, 0)\n",
    "\n",
    "    def test_is_divisible_typeError_missing_one_arg(self):\n",
    "        '''\n",
    "        Validates the is_divisible(m, n)\n",
    "        for TypeError exception i.e. n is a string.\n",
    "        '''\n",
    "        with self.assertRaises(TypeError):\n",
    "            is_divisible(3342)\n",
    "\n",
    "\n",
    "if __name__ == '__main__':\n",
    "    unittest.main(argv=[''], exit=False)\n",
    "\n",
    "pep8(_ih)"
   ]
  },
  {
   "cell_type": "markdown",
   "id": "6d157ffc",
   "metadata": {},
   "source": [
    "### Question 1.2\n",
    "\n",
    "Imagine that Python does not have the != operator built in. Write a method “not_equal” that takes two variables(any variable type) and gives the same result as the != operator. Obviously, you cannot use != within your function! Test if your code works by thinking of examples and making sure the output is the same for your new method as != gives you. Be sure to test your function well, including at least 3 test cases."
   ]
  },
  {
   "cell_type": "markdown",
   "id": "580b9516",
   "metadata": {},
   "source": [
    "### Answer 1.2"
   ]
  },
  {
   "cell_type": "code",
   "execution_count": 5,
   "id": "c55b3826",
   "metadata": {},
   "outputs": [
    {
     "name": "stdout",
     "output_type": "stream",
     "text": [
      "\n"
     ]
    }
   ],
   "source": [
    "def not_equal(a, b):\n",
    "    '''\n",
    "    Checks if two values are not equal.\n",
    "    Args:\n",
    "    a: The first value to compare.\n",
    "    b: The second value to compare.\n",
    "    Returns:\n",
    "    True if the values are not equal, False otherwise.\n",
    "    '''\n",
    "    # The signature() from inspect library inspects the function signature\n",
    "    # and returns the list of arguments when asked for parameters of signature.\n",
    "    args_count = len(signature(not_equal).parameters)\n",
    "    if args_count == 2:\n",
    "        # If the types of a and b are different, they are not equal\n",
    "        if not type(a) is type(b):\n",
    "            return True\n",
    "\n",
    "        # If the types are the same, compare their values\n",
    "        if isinstance(a, bool) or isinstance(b, bool):\n",
    "            # For booleans, we can simply check if a and b are different\n",
    "            return not a == b\n",
    "\n",
    "        elif isinstance(a, (int, float)):\n",
    "            # For numbers, we can check if their difference is non-zero\n",
    "            return abs(a - b) > 0\n",
    "\n",
    "        elif isinstance(a, str):\n",
    "            # For strings, we can check if their lengths are different\n",
    "            # or if their characters are different\n",
    "            if not len(a) == len(b):\n",
    "                return True\n",
    "\n",
    "            for i in range(len(a)):\n",
    "                if not a[i] == b[i]:\n",
    "                    return True\n",
    "\n",
    "            return False\n",
    "\n",
    "        else:\n",
    "            # For other types, we can try converting them\n",
    "            # to strings and comparing the strings\n",
    "            return not str(a) == str(b)\n",
    "    else:\n",
    "        # If any of arguments from a, b are missing\n",
    "        # raise the TypeError exception.\n",
    "        raise TypeError\n",
    "\n",
    "\n",
    "pep8(_ih)"
   ]
  },
  {
   "cell_type": "markdown",
   "id": "a99d7dca",
   "metadata": {},
   "source": [
    "**Test cases for not_equal(a, b)**"
   ]
  },
  {
   "cell_type": "code",
   "execution_count": 6,
   "id": "feb6712a",
   "metadata": {},
   "outputs": [
    {
     "name": "stderr",
     "output_type": "stream",
     "text": [
      ".............\n",
      "----------------------------------------------------------------------\n",
      "Ran 13 tests in 0.009s\n",
      "\n",
      "OK\n"
     ]
    },
    {
     "name": "stdout",
     "output_type": "stream",
     "text": [
      "\n"
     ]
    }
   ],
   "source": [
    "class TestNotEqual(unittest.TestCase):\n",
    "    '''\n",
    "    This class tests the not_equal(a, b)\n",
    "    for successful executions and exception handling.\n",
    "    '''\n",
    "    def test_not_equal_numeric_true(self):\n",
    "        '''\n",
    "        Validates the not_equal(a, b)\n",
    "        for numeric values and returns True as values are not equal.\n",
    "        '''\n",
    "        actual = not_equal(1, 2)\n",
    "        self.assertTrue(actual)\n",
    "\n",
    "    def test_not_equal_string_true(self):\n",
    "        '''\n",
    "        Validates the not_equal(a, b)\n",
    "        for string values and returns True as values are not equal.\n",
    "        '''\n",
    "        actual = not_equal(\"hello\", \"world\")\n",
    "        self.assertTrue(actual)\n",
    "\n",
    "    def test_not_equal_bool_true(self):\n",
    "        '''\n",
    "        Validates the not_equal(a, b)\n",
    "        for boolean values and returns True as values are not equal.\n",
    "        '''\n",
    "        actual = not_equal(True, False)\n",
    "        self.assertTrue(actual)\n",
    "\n",
    "    def test_not_equal_none_false(self):\n",
    "        '''\n",
    "        Validates the not_equal(a, b)\n",
    "        for None and returns False as values are same.\n",
    "        '''\n",
    "        actual = not_equal(None, None)\n",
    "        self.assertFalse(actual)\n",
    "\n",
    "    def test_not_equal_bool_false(self):\n",
    "        '''\n",
    "        Validates the not_equal(a, b)\n",
    "        for boolean values and returns False as values are same.\n",
    "        '''\n",
    "        actual = not_equal(True, True)\n",
    "        self.assertFalse(actual)\n",
    "\n",
    "    def test_not_equal_string_false(self):\n",
    "        '''\n",
    "        Validates the not_equal(a, b)\n",
    "        for string values and returns False as values are same.\n",
    "        '''\n",
    "        actual = not_equal(\"hello\", \"hello\")\n",
    "        self.assertFalse(actual)\n",
    "\n",
    "    def test_not_equal_number_false(self):\n",
    "        '''\n",
    "        Validates the not_equal(a, b)\n",
    "        for numbers and returns False as values are same.\n",
    "        '''\n",
    "        actual = not_equal(1.0, 1.0)\n",
    "        self.assertFalse(actual)\n",
    "\n",
    "    def test_not_equal_typeError_exception(self):\n",
    "        '''\n",
    "        Validates the not_equal(a, b) for typeError\n",
    "        as only one argument is passed to function while it excepts 2.\n",
    "        '''\n",
    "        with self.assertRaises(TypeError):\n",
    "            not_equal(1)\n",
    "\n",
    "\n",
    "if __name__ == '__main__':\n",
    "    unittest.main(argv=[''], exit=False)\n",
    "\n",
    "pep8(_ih)"
   ]
  },
  {
   "cell_type": "markdown",
   "id": "336f8a34",
   "metadata": {},
   "source": [
    "### Question 1.3\n",
    "\n",
    "List Comprehensions, you will need to perform and understand list comprehensions programming in below two small tasks.\n",
    "- Write a list comprehension that prints out the possible results of three coin flips (how many results should be there?)\n",
    "- Run this list comprehension in your notebook: [x+y for x in [10,20,30] for y in [1,2,3]]. Figure out what is going on here, and write a nested for loop that gives you the same result."
   ]
  },
  {
   "cell_type": "markdown",
   "id": "aa794503",
   "metadata": {},
   "source": [
    "### Answer 1.3\n",
    "\n",
    "Both the list Comprehension sub questions given here are examples of the **Cartesian Product** of **Mathematics**."
   ]
  },
  {
   "cell_type": "code",
   "execution_count": 7,
   "id": "0b6fb442",
   "metadata": {},
   "outputs": [
    {
     "name": "stdout",
     "output_type": "stream",
     "text": [
      "['HHH', 'HHT', 'HTH', 'HTT', 'THH', 'THT', 'TTH', 'TTT']\n",
      "\n"
     ]
    }
   ],
   "source": [
    "'''\n",
    "This is Programmatic implementation of the Cartesian Product.\n",
    "itertools library provides similar functionality with it's product().\n",
    "Used the same here in the following List Comprehension.\n",
    "The for loop in the Comprehension provides the set of possibilities\n",
    "when the three coins flipped. And the join applied on the iterator \"coin\"\n",
    "just concats the three values of each set. And the result of this,\n",
    "there are 8 posible results as printed in output.\n",
    "'''\n",
    "\n",
    "results = [\"\".join(coin) for coin in product([\"H\", \"T\"], repeat=3)]\n",
    "print(results)\n",
    "\n",
    "pep8(_ih)"
   ]
  },
  {
   "cell_type": "code",
   "execution_count": 8,
   "id": "6c48412f",
   "metadata": {},
   "outputs": [
    {
     "name": "stdout",
     "output_type": "stream",
     "text": [
      "Comprehension:- [11, 12, 13, 21, 22, 23, 31, 32, 33]\n",
      "Nested Loop:- [11, 12, 13, 21, 22, 23, 31, 32, 33]\n",
      "\n"
     ]
    }
   ],
   "source": [
    "'''\n",
    "This list comprehension is again a implementation Cartesian Product.\n",
    "Here two level of hierarchical for loop is implemented,\n",
    "which iterates 9 times, while adding all numeric values of y with\n",
    "each value of x.\n",
    "'''\n",
    "print(f\"Comprehension:- {[x+y for x in [10, 20, 30] for y in [1, 2, 3]]}\")\n",
    "\n",
    "'''\n",
    "The following snippet demonstrates above list comprehension implementation\n",
    "in nested for loop, which gives exact same result as the comprehension.\n",
    "'''\n",
    "a = [10, 20, 30]\n",
    "b = [1, 2, 3]\n",
    "li = []\n",
    "\n",
    "for x in a:\n",
    "    for y in b:\n",
    "        li.append(x+y)\n",
    "\n",
    "print(f\"Nested Loop:- {li}\")\n",
    "\n",
    "pep8(_ih)"
   ]
  },
  {
   "cell_type": "markdown",
   "id": "0162f560",
   "metadata": {},
   "source": [
    "### Question 1.4\n",
    "\n",
    "Write a function ”find_digits” that takes in a string and uses a list comprehension to return all the int digits in the string if any (assuming string only contain digits from 0 to 9). Be sure to test your function well, including at least 3 test cases."
   ]
  },
  {
   "cell_type": "markdown",
   "id": "c056eafa",
   "metadata": {},
   "source": [
    "### Answer 1.4"
   ]
  },
  {
   "cell_type": "code",
   "execution_count": 9,
   "id": "da6d4713",
   "metadata": {},
   "outputs": [
    {
     "name": "stdout",
     "output_type": "stream",
     "text": [
      "\n"
     ]
    }
   ],
   "source": [
    "def find_digits(string):\n",
    "    '''\n",
    "    Finds the digits in string.\n",
    "    Args:\n",
    "    string: The string which may contain digits.\n",
    "    Returns:\n",
    "    The list of digits of string.\n",
    "    '''\n",
    "    # The signature() from inspect library inspects the function signature\n",
    "    # and returns the list of arguments when asked for parameters of signature.\n",
    "    args_count = len(signature(find_digits).parameters)\n",
    "\n",
    "    if args_count == 1:\n",
    "        return [int(digit) for digit in string if digit.isdigit()]\n",
    "    else:\n",
    "        # If string argument is missing raise the TypeError exception.\n",
    "        raise TypeError\n",
    "\n",
    "\n",
    "pep8(_ih)"
   ]
  },
  {
   "cell_type": "markdown",
   "id": "2b167bb6",
   "metadata": {},
   "source": [
    "**Test cases for find_digits(string)**"
   ]
  },
  {
   "cell_type": "code",
   "execution_count": 10,
   "id": "0046bcdf",
   "metadata": {},
   "outputs": [
    {
     "name": "stderr",
     "output_type": "stream",
     "text": [
      "...................\n",
      "----------------------------------------------------------------------\n",
      "Ran 19 tests in 0.014s\n",
      "\n",
      "OK\n"
     ]
    },
    {
     "name": "stdout",
     "output_type": "stream",
     "text": [
      "\n"
     ]
    }
   ],
   "source": [
    "class TestFindDigits(unittest.TestCase):\n",
    "    '''\n",
    "    This class tests the find_digits(string)\n",
    "    for successful executions and exception handling.\n",
    "    '''\n",
    "    def test_find_digits_numbers(self):\n",
    "        '''\n",
    "        Validates the find_digits(string) to check and return\n",
    "        all the int digits in the string if any.\n",
    "        The argument string contains alpha numeric characers,\n",
    "        expected response here is the list of all integers\n",
    "        of the argument string.\n",
    "        '''\n",
    "        actual = find_digits(\"234232dfssdfwq23rwcwfdf456u67ujthnt76ngh\")\n",
    "        expected = [2, 3, 4, 2, 3, 2, 2, 3, 4, 5, 6, 6, 7, 7, 6]\n",
    "        self.assertEqual(actual, expected)\n",
    "\n",
    "    def test_find_digits_pure_string(self):\n",
    "        '''\n",
    "        Validates the find_digits(string) to check and return\n",
    "        all the int digits in the string if any.\n",
    "        The argument string does not contain any integer,\n",
    "        expected response here is a empty list.\n",
    "        '''\n",
    "        actual = find_digits(\"string\")\n",
    "        expected = []\n",
    "        self.assertEqual(actual, expected)\n",
    "\n",
    "    def test_find_digits_empty_string(self):\n",
    "        '''\n",
    "        Validates the find_digits(string) to check and return\n",
    "        all the int digits in the string if any.\n",
    "        The argument here is a empty string,\n",
    "        expected response is a empty list.\n",
    "        '''\n",
    "        actual = find_digits(\"\")\n",
    "        expected = []\n",
    "        self.assertEqual(actual, expected)\n",
    "\n",
    "    def test_find_digits_non_integer(self):\n",
    "        '''\n",
    "        Validates the find_digits(string) to check and return\n",
    "        all the int digits in the string if any.\n",
    "        The argument here is string with negative number i.e. -3,\n",
    "        but as the function checks for digit in the string '-' sign\n",
    "        is considered as an individual character\n",
    "        and '3' is considered as an individual character,\n",
    "        expected response is a list with 3 in it.\n",
    "        '''\n",
    "        actual = find_digits(\"stri-3ng\")\n",
    "        expected = [3]\n",
    "        self.assertEqual(actual, expected)\n",
    "\n",
    "    def test_find_digits_floating_number(self):\n",
    "        '''\n",
    "        Validates the find_digits(string) to check and return\n",
    "        all the int digits in the string if any.\n",
    "        The argument here is string with decimal number i.e. 0.3,\n",
    "        but as the function checks for digit in the string '.' sign\n",
    "        is considered as an individual character and\n",
    "        '0' & '3' are considered as an individual character,\n",
    "        expected response is a list with 0 & 3 in it.\n",
    "        '''\n",
    "        actual = find_digits(\"stri0.3ng\")\n",
    "        expected = [0, 3]\n",
    "        self.assertEqual(actual, expected)\n",
    "\n",
    "    def test_is_divisible_typeError_exception(self):\n",
    "        '''\n",
    "        Validates the find_digits(string) for typeError\n",
    "        as no argument is passed to function while it excepts a string.\n",
    "        '''\n",
    "        with self.assertRaises(TypeError):\n",
    "            find_digits()\n",
    "\n",
    "\n",
    "if __name__ == '__main__':\n",
    "    unittest.main(argv=[''], exit=False)\n",
    "\n",
    "\n",
    "pep8(_ih)"
   ]
  },
  {
   "attachments": {
    "Screenshot%202024-09-15%20at%203.13.28%E2%80%AFPM.png": {
     "image/png": "[encoded data removed]"
    }
   },
   "cell_type": "markdown",
   "id": "1c95cd35",
   "metadata": {},
   "source": [
    "### Question 1.5\n",
    "\n",
    "Write a list comprehension which solves the equation y = 2x2 − 1 like Figure 2. Your solution should print out a list of [x,y] pairs; use the domain x ∈ [−3,3] and the range y ∈ [0,30]. x and y are all integers and you could use range for simulation on the x and y.\n",
    "\n",
    "![Screenshot%202024-09-15%20at%203.13.28%E2%80%AFPM.png](attachment:Screenshot%202024-09-15%20at%203.13.28%E2%80%AFPM.png)"
   ]
  },
  {
   "cell_type": "markdown",
   "id": "6a500e0a",
   "metadata": {},
   "source": [
    "### Answer 1.5"
   ]
  },
  {
   "cell_type": "code",
   "execution_count": 11,
   "id": "88393bc5",
   "metadata": {},
   "outputs": [
    {
     "name": "stdout",
     "output_type": "stream",
     "text": [
      "[(-3, 17), (-2, 7), (-1, 1), (1, 1), (2, 7), (3, 17)]\n",
      "\n"
     ]
    }
   ],
   "source": [
    "'''\n",
    "This code first creates a list comprehension that iterates over\n",
    "all values of x from -3 to 3 (inclusive).\n",
    "For each x, it calculates the corresponding y value\n",
    "using the equation y = 2x² - 1.\n",
    "And then, it filters the list to only include pairs\n",
    "where y is within the desired range of 0 to 30.\n",
    "'''\n",
    "print([(x, 2*x**2 - 1) for x in range(-3, 4) if 0 <= 2*x**2 - 1 <= 30])\n",
    "\n",
    "pep8(_ih)"
   ]
  },
  {
   "cell_type": "markdown",
   "id": "b50c1161",
   "metadata": {},
   "source": [
    "### Question 1.6\n",
    "\n",
    "**Collision Detection of Balls:**<br>\n",
    "For calculating collision, we only care about a ball’s position in space, as well as its size. We can store a ball’s position with the (x, y) coordinates of its center point, and we can calculate its size if we know its radius r. Thus, we represent a ball in 2D space as a tuple of (x, y, r). To figure out if two balls are colliding, we need to compute the distance between their centers, then see if this distance is less than or equal to the sum of their radius. If so, they are colliding. Please define a function with two list as inputs (two balls’ position and radius [x,y,r]), test your function with three different cases."
   ]
  },
  {
   "cell_type": "markdown",
   "id": "f6249fc3",
   "metadata": {},
   "source": [
    "### Answer 1.6"
   ]
  },
  {
   "cell_type": "code",
   "execution_count": 12,
   "id": "9c30e80e",
   "metadata": {},
   "outputs": [
    {
     "name": "stdout",
     "output_type": "stream",
     "text": [
      "\n"
     ]
    }
   ],
   "source": [
    "def collision_detection(b1, b2):\n",
    "    \"\"\"\n",
    "    Detects collision between two balls.\n",
    "    Args:\n",
    "    b1: A list representing the first ball's position and radius (x, y, r).\n",
    "    b2: A list representing the second ball's position and radius (x, y, r).\n",
    "    Returns:\n",
    "    True if the balls are colliding, False otherwise.\n",
    "    \"\"\"\n",
    "    # The signature() from inspect library inspects the function signature\n",
    "    # and returns the list of arguments when asked for parameters of signature.\n",
    "    args_count = len(signature(collision_detection).parameters)\n",
    "\n",
    "    if args_count == 2:\n",
    "        if len(b1) == 3 and len(b2) == 3:\n",
    "            x1, y1, r1 = b1\n",
    "            x2, y2, r2 = b2\n",
    "\n",
    "            # Calculate the distance between the centers of the balls\n",
    "            distance = math.sqrt((x2 - x1)**2 + (y2 - y1)**2)\n",
    "\n",
    "            # Check if the distance is less than\n",
    "            # or equal to the sum of their radii\n",
    "            return distance <= r1 + r2\n",
    "        else:\n",
    "            # If any of the value in the arguments is missing\n",
    "            # raise the ValueError exception.\n",
    "            raise ValueError\n",
    "    else:\n",
    "        # If any of the argument is missing raise the TypeError exception.\n",
    "        raise TypeError\n",
    "\n",
    "\n",
    "pep8(_ih)"
   ]
  },
  {
   "cell_type": "markdown",
   "id": "cd4957f8",
   "metadata": {},
   "source": [
    "**Test cases for collision_detection(b1, b2)**"
   ]
  },
  {
   "cell_type": "code",
   "execution_count": 13,
   "id": "66ecc729",
   "metadata": {},
   "outputs": [
    {
     "name": "stderr",
     "output_type": "stream",
     "text": [
      ".......................\n",
      "----------------------------------------------------------------------\n",
      "Ran 23 tests in 0.016s\n",
      "\n",
      "OK\n"
     ]
    },
    {
     "name": "stdout",
     "output_type": "stream",
     "text": [
      "\n"
     ]
    }
   ],
   "source": [
    "class TestCollisionDetection(unittest.TestCase):\n",
    "    '''\n",
    "    This class tests the collision_detection(b1, b2)\n",
    "    for successful executions and exception handling.\n",
    "    '''\n",
    "    def test_collision_detection_true(self):\n",
    "        '''\n",
    "        Validates the collision_detection(b1, b2) to check\n",
    "        if the two balls collide. This test checks if the\n",
    "        two balls colide. Function is expected to return True.\n",
    "        '''\n",
    "        actual = collision_detection([0, 0, 5], [4, 0, 3])\n",
    "        self.assertTrue(actual)\n",
    "\n",
    "    def test_collision_detection_false(self):\n",
    "        '''\n",
    "        Validates the collision_detection(b1, b2) to check\n",
    "        if the two balls collide. This test checks if the\n",
    "        two balls colide. Function is expected to return False.\n",
    "        '''\n",
    "        actual = collision_detection([0, 0, 5], [10, 0, 3])\n",
    "        self.assertFalse(actual)\n",
    "\n",
    "    def test_collision_detection_typeError_exception(self):\n",
    "        '''\n",
    "        Validates the collision_detection(b1, b2) for typeError\n",
    "        as only one argument is passed to function while it excepts 2.\n",
    "        '''\n",
    "        with self.assertRaises(TypeError):\n",
    "            collision_detection([4, 0, 3])\n",
    "\n",
    "    def test_is_divisible_valueError(self):\n",
    "        '''\n",
    "        Validates the collision_detection(b1, b2) for valueError\n",
    "        as list of 2 values is passed to second argument while it\n",
    "        excepts 3.\n",
    "        '''\n",
    "        with self.assertRaises(ValueError):\n",
    "            collision_detection([0, 0, 5], [10, 3])\n",
    "\n",
    "\n",
    "if __name__ == '__main__':\n",
    "    unittest.main(argv=[''], exit=False)\n",
    "\n",
    "pep8(_ih)"
   ]
  },
  {
   "cell_type": "markdown",
   "id": "72971eac",
   "metadata": {},
   "source": [
    "### Question 1.7\n",
    "\n",
    "Scoring the words A set of score is given to you as below according to each English letters: LETTER ̇VALUES = ’a’: 1, ’b’: 1, ’c’: 5, ’d’: 6, ’e’: 1, ’f’: 4, ’g’: 2, ’h’: 4, ’i’: 1, ’j’: 8, ’k’: 6, ’l’: 1, ’m’: 4, ’n’: 1, ’o’: 1, ’p’: 3, ’q’: 11, ’r’: 1, ’s’: 1, ’t’: 1, ’u’: 1, ’v’: 5, ’w’: 4, ’x’: 8, ’y’: 6, ’z’: 10, ’ ’:100\n",
    "Please finish the “get_word_score” function for returning the correct word score (condition is given from function comments). The necessary library is given to you for importing (not other libraries should be used). Test with “Australia”, “Deakin” and your name for three cases.\n",
    "\n",
    "``` python\n",
    "def get_word_score(word):\n",
    "    '''\n",
    "    Returns the score for a word. Assumes the word is a valid word.\n",
    "    \n",
    "    You may assume that the input word is always either a string of letters, \n",
    "    and can not be the empty string \"\".\n",
    "    \n",
    "    You may not assume that the string will only contain lowercase letters, \n",
    "    so you will have to handle uppercase and mixed case strings appropriately.\n",
    "    \n",
    "    The score for a word is the product of two components:\n",
    "        The first component is the sum of the points for letters in the word.\n",
    "        The second component is the larger of: 1, or 7*wordlen − 3*(20−wordlen),\n",
    "           where,\n",
    "           wordlen is the length of the word \n",
    "           \n",
    "           Letters are scored as in LETTER VALUES.\n",
    "     \n",
    "     word: string returns: int >= 0\n",
    "    '''     \n",
    "```"
   ]
  },
  {
   "cell_type": "markdown",
   "id": "f5da8322",
   "metadata": {},
   "source": [
    "### Answer 1.7"
   ]
  },
  {
   "cell_type": "code",
   "execution_count": 14,
   "id": "3eeffd8d",
   "metadata": {},
   "outputs": [
    {
     "name": "stdout",
     "output_type": "stream",
     "text": [
      "\n"
     ]
    }
   ],
   "source": [
    "LETTER_VALUES = {\"a\": 1, \"b\": 1, \"c\": 5, \"d\": 6, \"e\": 1,\n",
    "                 \"f\": 4, \"g\": 2, \"h\": 4, \"i\": 1, \"j\": 8,\n",
    "                 \"k\": 6, \"l\": 1, \"m\": 4, \"n\": 1, \"o\": 1,\n",
    "                 \"p\": 3, \"q\": 11, \"r\": 1, \"s\": 1, \"t\": 1,\n",
    "                 \"u\": 1, \"v\": 5, \"w\": 4, \"x\": 8, \"y\": 6,\n",
    "                 \"z\": 10, \" \": 100}\n",
    "\n",
    "\n",
    "def get_word_score(word):\n",
    "    '''\n",
    "    Scores the word.\n",
    "    Assumptions:\n",
    "    - The word is a valid word.\n",
    "    - The input word is always either a string of letters,\n",
    "      and can not be the empty string \"\".\n",
    "    - May not assume that the string will only contain lowercase letters,\n",
    "    Scoring Logic:\n",
    "    - The score for a word is the product of two components:\n",
    "        - The first component is\n",
    "          the sum of the points for letters in the word.\n",
    "        - The second component is\n",
    "          the larger of: 1, or 7*wordlen − 3*(20−wordlen),\n",
    "          where,\n",
    "          - wordlen is the length of the word\n",
    "          - Letters are scored as in LETTER VALUES.\n",
    "     Returns:\n",
    "     The score for a word.\n",
    "    '''\n",
    "    # The signature() from inspect library inspects the function signature\n",
    "    # and returns the list of arguments when asked for parameters of signature.\n",
    "    args_count = len(signature(get_word_score).parameters)\n",
    "\n",
    "    if args_count == 1:\n",
    "        word = word.lower()\n",
    "        x = 0\n",
    "        for i in word:\n",
    "            if i in list(LETTER_VALUES.keys()):\n",
    "                x = x + LETTER_VALUES[i]\n",
    "            else:\n",
    "                # If i is not in the LETTER_VALUES.keys()\n",
    "                # raise KeyError Exception.\n",
    "                raise KeyError\n",
    "\n",
    "        wordlen = len(word)\n",
    "        temp_sec = 7 * wordlen - 3 * (20 - wordlen)\n",
    "        y = temp_sec if temp_sec > 1 else 1\n",
    "\n",
    "        return x * y\n",
    "    else:\n",
    "        # If word argument is missing raise the TypeError exception.\n",
    "        raise TypeError\n",
    "\n",
    "\n",
    "pep8(_ih)"
   ]
  },
  {
   "cell_type": "markdown",
   "id": "adf0ba4f",
   "metadata": {},
   "source": [
    "**Test cases for get_word_score(word)**"
   ]
  },
  {
   "cell_type": "code",
   "execution_count": 15,
   "id": "17031a99",
   "metadata": {},
   "outputs": [
    {
     "name": "stderr",
     "output_type": "stream",
     "text": [
      "............................\n",
      "----------------------------------------------------------------------\n",
      "Ran 28 tests in 0.019s\n",
      "\n",
      "OK\n"
     ]
    },
    {
     "name": "stdout",
     "output_type": "stream",
     "text": [
      "\n"
     ]
    }
   ],
   "source": [
    "class TestGetWordScore(unittest.TestCase):\n",
    "    '''\n",
    "    This class tests the get_word_score(word)\n",
    "    for successful executions and exception handling.\n",
    "    '''\n",
    "    def test_get_word_score_1(self):\n",
    "        '''\n",
    "        Validates the get_word_score(word) which scores the word.\n",
    "        This test validates the score of word 'Australia'.\n",
    "        The expected score is 270.\n",
    "        '''\n",
    "        actual = get_word_score(\"Australia\")\n",
    "        expected = 270\n",
    "        self.assertEqual(actual, expected)\n",
    "\n",
    "    def test_get_word_score_2(self):\n",
    "        '''\n",
    "        Validates the get_word_score(word) which scores the word.\n",
    "        This test validates the score of word 'Deakin'.\n",
    "        The expected score is 16.\n",
    "        '''\n",
    "        actual = get_word_score(\"Deakin\")\n",
    "        expected = 16\n",
    "        self.assertEqual(actual, expected)\n",
    "\n",
    "    def test_get_word_score_3(self):\n",
    "        '''\n",
    "        Validates the get_word_score(word) which scores the word.\n",
    "        This test validates the score of word 'Omkar Sahasrabudhe'.\n",
    "        The expected score is 16320.\n",
    "        '''\n",
    "        actual = get_word_score(\"Omkar Sahasrabudhe\")\n",
    "        expected = 16320\n",
    "        self.assertEqual(actual, expected)\n",
    "\n",
    "    def test_get_word_score_keyError(self):\n",
    "        '''\n",
    "        Validates the get_word_score(word) for typeError\n",
    "        as the string contains ';'\n",
    "        and such character is not present in our 'LETTER_VALUES'.\n",
    "        '''\n",
    "        with self.assertRaises(KeyError):\n",
    "            get_word_score(\"Australia;\")\n",
    "\n",
    "    def test_get_word_score_typeError(self):\n",
    "        '''\n",
    "        Validates the get_word_score(word) for typeError\n",
    "        as no argument is passed to function while it excepts a word.\n",
    "        '''\n",
    "        with self.assertRaises(TypeError):\n",
    "            get_word_score()\n",
    "\n",
    "\n",
    "if __name__ == '__main__':\n",
    "    unittest.main(argv=[''], exit=False)\n",
    "\n",
    "\n",
    "pep8(_ih)"
   ]
  },
  {
   "attachments": {
    "Screenshot%202024-09-15%20at%203.17.24%E2%80%AFPM.png": {
     "image/png": "[encoded data removed]"
    }
   },
   "cell_type": "markdown",
   "id": "17b2d15a",
   "metadata": {},
   "source": [
    "### Question 1.8\n",
    "\n",
    "Could you please use loop(s) with string character“*” to print as below Figure 3?\n",
    "\n",
    "![Screenshot%202024-09-15%20at%203.17.24%E2%80%AFPM.png](attachment:Screenshot%202024-09-15%20at%203.17.24%E2%80%AFPM.png)"
   ]
  },
  {
   "cell_type": "markdown",
   "id": "d84e6f84",
   "metadata": {},
   "source": [
    "### Answer 1.8"
   ]
  },
  {
   "cell_type": "code",
   "execution_count": 16,
   "id": "79341860",
   "metadata": {
    "scrolled": false
   },
   "outputs": [
    {
     "name": "stdout",
     "output_type": "stream",
     "text": [
      "     \n",
      "    *\n",
      "   **\n",
      "  ***\n",
      " ****\n",
      "*****\n",
      " ****\n",
      "  ***\n",
      "   **\n",
      "    *\n",
      "\n"
     ]
    }
   ],
   "source": [
    "'''\n",
    "The first pyramid is constructed with a base of 5 stars and a height of 5 rows,\n",
    "with each row having one more star than the previous.\n",
    "The second pyramid is constructed with a base of 5 stars\n",
    "and a height of 5 rows, with each row having one fewer star than the previous.\n",
    "The combination of these two pyramids creates the desired pattern.\n",
    "'''\n",
    "n = 5\n",
    "for i in range(n):\n",
    "    for j in range(0, n - i):\n",
    "        print(\" \", end=\"\")\n",
    "    for k in range(0, i):\n",
    "        print(\"*\", end=\"\")\n",
    "    print()\n",
    "\n",
    "for i in range(n, 0, -1):\n",
    "    for j in range(0, n - i):\n",
    "        print(\" \", end=\"\")\n",
    "    for k in range(0, i):\n",
    "        print(\"*\", end=\"\")\n",
    "    print()\n",
    "\n",
    "pep8(_ih)"
   ]
  }
 ],
 "metadata": {
  "kernelspec": {
   "display_name": "Python 3 (ipykernel)",
   "language": "python",
   "name": "python3"
  },
  "language_info": {
   "codemirror_mode": {
    "name": "ipython",
    "version": 3
   },
   "file_extension": ".py",
   "mimetype": "text/x-python",
   "name": "python",
   "nbconvert_exporter": "python",
   "pygments_lexer": "ipython3",
   "version": "3.9.19"
  },
  "load_extensions": {
   "jupyter-autopep8-master/jupyter-autopep8": true
  }
 },
 "nbformat": 4,
 "nbformat_minor": 5
}
